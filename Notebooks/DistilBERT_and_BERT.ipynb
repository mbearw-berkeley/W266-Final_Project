{
  "nbformat": 4,
  "nbformat_minor": 5,
  "metadata": {
    "kernelspec": {
      "display_name": "Python 3",
      "language": "python",
      "name": "python3"
    },
    "language_info": {
      "codemirror_mode": {
        "name": "ipython",
        "version": 3
      },
      "file_extension": ".py",
      "mimetype": "text/x-python",
      "name": "python",
      "nbconvert_exporter": "python",
      "pygments_lexer": "ipython3",
      "version": "3.7.10"
    },
    "colab": {
      "name": "BERT Encoded.ipynb",
      "provenance": [],
      "collapsed_sections": []
    },
    "accelerator": "TPU",
    "widgets": {
      "application/vnd.jupyter.widget-state+json": {
        "75a17c755e55487daf0eb19268381a74": {
          "model_module": "@jupyter-widgets/controls",
          "model_name": "HBoxModel",
          "state": {
            "_view_name": "HBoxView",
            "_dom_classes": [],
            "_model_name": "HBoxModel",
            "_view_module": "@jupyter-widgets/controls",
            "_model_module_version": "1.5.0",
            "_view_count": null,
            "_view_module_version": "1.5.0",
            "box_style": "",
            "layout": "IPY_MODEL_c89cf4527577442688f083954b6fa8ab",
            "_model_module": "@jupyter-widgets/controls",
            "children": [
              "IPY_MODEL_0fa91ee7392e4a4caa8063ee0aa60e28",
              "IPY_MODEL_45e82311fcdf4868a0a752b5969c7efd"
            ]
          }
        },
        "c89cf4527577442688f083954b6fa8ab": {
          "model_module": "@jupyter-widgets/base",
          "model_name": "LayoutModel",
          "state": {
            "_view_name": "LayoutView",
            "grid_template_rows": null,
            "right": null,
            "justify_content": null,
            "_view_module": "@jupyter-widgets/base",
            "overflow": null,
            "_model_module_version": "1.2.0",
            "_view_count": null,
            "flex_flow": null,
            "width": null,
            "min_width": null,
            "border": null,
            "align_items": null,
            "bottom": null,
            "_model_module": "@jupyter-widgets/base",
            "top": null,
            "grid_column": null,
            "overflow_y": null,
            "overflow_x": null,
            "grid_auto_flow": null,
            "grid_area": null,
            "grid_template_columns": null,
            "flex": null,
            "_model_name": "LayoutModel",
            "justify_items": null,
            "grid_row": null,
            "max_height": null,
            "align_content": null,
            "visibility": null,
            "align_self": null,
            "height": null,
            "min_height": null,
            "padding": null,
            "grid_auto_rows": null,
            "grid_gap": null,
            "max_width": null,
            "order": null,
            "_view_module_version": "1.2.0",
            "grid_template_areas": null,
            "object_position": null,
            "object_fit": null,
            "grid_auto_columns": null,
            "margin": null,
            "display": null,
            "left": null
          }
        },
        "0fa91ee7392e4a4caa8063ee0aa60e28": {
          "model_module": "@jupyter-widgets/controls",
          "model_name": "FloatProgressModel",
          "state": {
            "_view_name": "ProgressView",
            "style": "IPY_MODEL_4d30b3537daf441a8c1b39104cbea4b5",
            "_dom_classes": [],
            "description": "Downloading: 100%",
            "_model_name": "FloatProgressModel",
            "bar_style": "success",
            "max": 433,
            "_view_module": "@jupyter-widgets/controls",
            "_model_module_version": "1.5.0",
            "value": 433,
            "_view_count": null,
            "_view_module_version": "1.5.0",
            "orientation": "horizontal",
            "min": 0,
            "description_tooltip": null,
            "_model_module": "@jupyter-widgets/controls",
            "layout": "IPY_MODEL_f402afed45f14bebac39c03b8914e73a"
          }
        },
        "45e82311fcdf4868a0a752b5969c7efd": {
          "model_module": "@jupyter-widgets/controls",
          "model_name": "HTMLModel",
          "state": {
            "_view_name": "HTMLView",
            "style": "IPY_MODEL_6a36614c4e124e22b51b2ae0e06402ef",
            "_dom_classes": [],
            "description": "",
            "_model_name": "HTMLModel",
            "placeholder": "​",
            "_view_module": "@jupyter-widgets/controls",
            "_model_module_version": "1.5.0",
            "value": " 433/433 [00:16&lt;00:00, 25.7B/s]",
            "_view_count": null,
            "_view_module_version": "1.5.0",
            "description_tooltip": null,
            "_model_module": "@jupyter-widgets/controls",
            "layout": "IPY_MODEL_13498d044e86408a93cea4c1244ba7c8"
          }
        },
        "4d30b3537daf441a8c1b39104cbea4b5": {
          "model_module": "@jupyter-widgets/controls",
          "model_name": "ProgressStyleModel",
          "state": {
            "_view_name": "StyleView",
            "_model_name": "ProgressStyleModel",
            "description_width": "initial",
            "_view_module": "@jupyter-widgets/base",
            "_model_module_version": "1.5.0",
            "_view_count": null,
            "_view_module_version": "1.2.0",
            "bar_color": null,
            "_model_module": "@jupyter-widgets/controls"
          }
        },
        "f402afed45f14bebac39c03b8914e73a": {
          "model_module": "@jupyter-widgets/base",
          "model_name": "LayoutModel",
          "state": {
            "_view_name": "LayoutView",
            "grid_template_rows": null,
            "right": null,
            "justify_content": null,
            "_view_module": "@jupyter-widgets/base",
            "overflow": null,
            "_model_module_version": "1.2.0",
            "_view_count": null,
            "flex_flow": null,
            "width": null,
            "min_width": null,
            "border": null,
            "align_items": null,
            "bottom": null,
            "_model_module": "@jupyter-widgets/base",
            "top": null,
            "grid_column": null,
            "overflow_y": null,
            "overflow_x": null,
            "grid_auto_flow": null,
            "grid_area": null,
            "grid_template_columns": null,
            "flex": null,
            "_model_name": "LayoutModel",
            "justify_items": null,
            "grid_row": null,
            "max_height": null,
            "align_content": null,
            "visibility": null,
            "align_self": null,
            "height": null,
            "min_height": null,
            "padding": null,
            "grid_auto_rows": null,
            "grid_gap": null,
            "max_width": null,
            "order": null,
            "_view_module_version": "1.2.0",
            "grid_template_areas": null,
            "object_position": null,
            "object_fit": null,
            "grid_auto_columns": null,
            "margin": null,
            "display": null,
            "left": null
          }
        },
        "6a36614c4e124e22b51b2ae0e06402ef": {
          "model_module": "@jupyter-widgets/controls",
          "model_name": "DescriptionStyleModel",
          "state": {
            "_view_name": "StyleView",
            "_model_name": "DescriptionStyleModel",
            "description_width": "",
            "_view_module": "@jupyter-widgets/base",
            "_model_module_version": "1.5.0",
            "_view_count": null,
            "_view_module_version": "1.2.0",
            "_model_module": "@jupyter-widgets/controls"
          }
        },
        "13498d044e86408a93cea4c1244ba7c8": {
          "model_module": "@jupyter-widgets/base",
          "model_name": "LayoutModel",
          "state": {
            "_view_name": "LayoutView",
            "grid_template_rows": null,
            "right": null,
            "justify_content": null,
            "_view_module": "@jupyter-widgets/base",
            "overflow": null,
            "_model_module_version": "1.2.0",
            "_view_count": null,
            "flex_flow": null,
            "width": null,
            "min_width": null,
            "border": null,
            "align_items": null,
            "bottom": null,
            "_model_module": "@jupyter-widgets/base",
            "top": null,
            "grid_column": null,
            "overflow_y": null,
            "overflow_x": null,
            "grid_auto_flow": null,
            "grid_area": null,
            "grid_template_columns": null,
            "flex": null,
            "_model_name": "LayoutModel",
            "justify_items": null,
            "grid_row": null,
            "max_height": null,
            "align_content": null,
            "visibility": null,
            "align_self": null,
            "height": null,
            "min_height": null,
            "padding": null,
            "grid_auto_rows": null,
            "grid_gap": null,
            "max_width": null,
            "order": null,
            "_view_module_version": "1.2.0",
            "grid_template_areas": null,
            "object_position": null,
            "object_fit": null,
            "grid_auto_columns": null,
            "margin": null,
            "display": null,
            "left": null
          }
        },
        "0c275f4a7fd14fa58f51ae1b365b352e": {
          "model_module": "@jupyter-widgets/controls",
          "model_name": "HBoxModel",
          "state": {
            "_view_name": "HBoxView",
            "_dom_classes": [],
            "_model_name": "HBoxModel",
            "_view_module": "@jupyter-widgets/controls",
            "_model_module_version": "1.5.0",
            "_view_count": null,
            "_view_module_version": "1.5.0",
            "box_style": "",
            "layout": "IPY_MODEL_f4da98640b9d4e3cb3a71a7b38a03d23",
            "_model_module": "@jupyter-widgets/controls",
            "children": [
              "IPY_MODEL_3f3418b6c8cf436d931828d5e615b1fd",
              "IPY_MODEL_2c6bd90d42d0486db972094a01a03be0"
            ]
          }
        },
        "f4da98640b9d4e3cb3a71a7b38a03d23": {
          "model_module": "@jupyter-widgets/base",
          "model_name": "LayoutModel",
          "state": {
            "_view_name": "LayoutView",
            "grid_template_rows": null,
            "right": null,
            "justify_content": null,
            "_view_module": "@jupyter-widgets/base",
            "overflow": null,
            "_model_module_version": "1.2.0",
            "_view_count": null,
            "flex_flow": null,
            "width": null,
            "min_width": null,
            "border": null,
            "align_items": null,
            "bottom": null,
            "_model_module": "@jupyter-widgets/base",
            "top": null,
            "grid_column": null,
            "overflow_y": null,
            "overflow_x": null,
            "grid_auto_flow": null,
            "grid_area": null,
            "grid_template_columns": null,
            "flex": null,
            "_model_name": "LayoutModel",
            "justify_items": null,
            "grid_row": null,
            "max_height": null,
            "align_content": null,
            "visibility": null,
            "align_self": null,
            "height": null,
            "min_height": null,
            "padding": null,
            "grid_auto_rows": null,
            "grid_gap": null,
            "max_width": null,
            "order": null,
            "_view_module_version": "1.2.0",
            "grid_template_areas": null,
            "object_position": null,
            "object_fit": null,
            "grid_auto_columns": null,
            "margin": null,
            "display": null,
            "left": null
          }
        },
        "3f3418b6c8cf436d931828d5e615b1fd": {
          "model_module": "@jupyter-widgets/controls",
          "model_name": "FloatProgressModel",
          "state": {
            "_view_name": "ProgressView",
            "style": "IPY_MODEL_1554f585813b42f4bf5b9b83a8bf00d1",
            "_dom_classes": [],
            "description": "Downloading: 100%",
            "_model_name": "FloatProgressModel",
            "bar_style": "success",
            "max": 213450,
            "_view_module": "@jupyter-widgets/controls",
            "_model_module_version": "1.5.0",
            "value": 213450,
            "_view_count": null,
            "_view_module_version": "1.5.0",
            "orientation": "horizontal",
            "min": 0,
            "description_tooltip": null,
            "_model_module": "@jupyter-widgets/controls",
            "layout": "IPY_MODEL_beca4167ea48430283de2337a5c83301"
          }
        },
        "2c6bd90d42d0486db972094a01a03be0": {
          "model_module": "@jupyter-widgets/controls",
          "model_name": "HTMLModel",
          "state": {
            "_view_name": "HTMLView",
            "style": "IPY_MODEL_38e32f9ab3f24c68a832224e3499c529",
            "_dom_classes": [],
            "description": "",
            "_model_name": "HTMLModel",
            "placeholder": "​",
            "_view_module": "@jupyter-widgets/controls",
            "_model_module_version": "1.5.0",
            "value": " 213k/213k [00:00&lt;00:00, 224kB/s]",
            "_view_count": null,
            "_view_module_version": "1.5.0",
            "description_tooltip": null,
            "_model_module": "@jupyter-widgets/controls",
            "layout": "IPY_MODEL_2fd380b13e804bd093990f486702120a"
          }
        },
        "1554f585813b42f4bf5b9b83a8bf00d1": {
          "model_module": "@jupyter-widgets/controls",
          "model_name": "ProgressStyleModel",
          "state": {
            "_view_name": "StyleView",
            "_model_name": "ProgressStyleModel",
            "description_width": "initial",
            "_view_module": "@jupyter-widgets/base",
            "_model_module_version": "1.5.0",
            "_view_count": null,
            "_view_module_version": "1.2.0",
            "bar_color": null,
            "_model_module": "@jupyter-widgets/controls"
          }
        },
        "beca4167ea48430283de2337a5c83301": {
          "model_module": "@jupyter-widgets/base",
          "model_name": "LayoutModel",
          "state": {
            "_view_name": "LayoutView",
            "grid_template_rows": null,
            "right": null,
            "justify_content": null,
            "_view_module": "@jupyter-widgets/base",
            "overflow": null,
            "_model_module_version": "1.2.0",
            "_view_count": null,
            "flex_flow": null,
            "width": null,
            "min_width": null,
            "border": null,
            "align_items": null,
            "bottom": null,
            "_model_module": "@jupyter-widgets/base",
            "top": null,
            "grid_column": null,
            "overflow_y": null,
            "overflow_x": null,
            "grid_auto_flow": null,
            "grid_area": null,
            "grid_template_columns": null,
            "flex": null,
            "_model_name": "LayoutModel",
            "justify_items": null,
            "grid_row": null,
            "max_height": null,
            "align_content": null,
            "visibility": null,
            "align_self": null,
            "height": null,
            "min_height": null,
            "padding": null,
            "grid_auto_rows": null,
            "grid_gap": null,
            "max_width": null,
            "order": null,
            "_view_module_version": "1.2.0",
            "grid_template_areas": null,
            "object_position": null,
            "object_fit": null,
            "grid_auto_columns": null,
            "margin": null,
            "display": null,
            "left": null
          }
        },
        "38e32f9ab3f24c68a832224e3499c529": {
          "model_module": "@jupyter-widgets/controls",
          "model_name": "DescriptionStyleModel",
          "state": {
            "_view_name": "StyleView",
            "_model_name": "DescriptionStyleModel",
            "description_width": "",
            "_view_module": "@jupyter-widgets/base",
            "_model_module_version": "1.5.0",
            "_view_count": null,
            "_view_module_version": "1.2.0",
            "_model_module": "@jupyter-widgets/controls"
          }
        },
        "2fd380b13e804bd093990f486702120a": {
          "model_module": "@jupyter-widgets/base",
          "model_name": "LayoutModel",
          "state": {
            "_view_name": "LayoutView",
            "grid_template_rows": null,
            "right": null,
            "justify_content": null,
            "_view_module": "@jupyter-widgets/base",
            "overflow": null,
            "_model_module_version": "1.2.0",
            "_view_count": null,
            "flex_flow": null,
            "width": null,
            "min_width": null,
            "border": null,
            "align_items": null,
            "bottom": null,
            "_model_module": "@jupyter-widgets/base",
            "top": null,
            "grid_column": null,
            "overflow_y": null,
            "overflow_x": null,
            "grid_auto_flow": null,
            "grid_area": null,
            "grid_template_columns": null,
            "flex": null,
            "_model_name": "LayoutModel",
            "justify_items": null,
            "grid_row": null,
            "max_height": null,
            "align_content": null,
            "visibility": null,
            "align_self": null,
            "height": null,
            "min_height": null,
            "padding": null,
            "grid_auto_rows": null,
            "grid_gap": null,
            "max_width": null,
            "order": null,
            "_view_module_version": "1.2.0",
            "grid_template_areas": null,
            "object_position": null,
            "object_fit": null,
            "grid_auto_columns": null,
            "margin": null,
            "display": null,
            "left": null
          }
        },
        "a4b14cd5b95741849b818ce6b0ffe07e": {
          "model_module": "@jupyter-widgets/controls",
          "model_name": "HBoxModel",
          "state": {
            "_view_name": "HBoxView",
            "_dom_classes": [],
            "_model_name": "HBoxModel",
            "_view_module": "@jupyter-widgets/controls",
            "_model_module_version": "1.5.0",
            "_view_count": null,
            "_view_module_version": "1.5.0",
            "box_style": "",
            "layout": "IPY_MODEL_2fbc2fcac9a14640bc2320a9b4abbe02",
            "_model_module": "@jupyter-widgets/controls",
            "children": [
              "IPY_MODEL_82f2feeada104373a89db856b2de52ab",
              "IPY_MODEL_a3dfcac5ee614506bc7614b0b68a3cea"
            ]
          }
        },
        "2fbc2fcac9a14640bc2320a9b4abbe02": {
          "model_module": "@jupyter-widgets/base",
          "model_name": "LayoutModel",
          "state": {
            "_view_name": "LayoutView",
            "grid_template_rows": null,
            "right": null,
            "justify_content": null,
            "_view_module": "@jupyter-widgets/base",
            "overflow": null,
            "_model_module_version": "1.2.0",
            "_view_count": null,
            "flex_flow": null,
            "width": null,
            "min_width": null,
            "border": null,
            "align_items": null,
            "bottom": null,
            "_model_module": "@jupyter-widgets/base",
            "top": null,
            "grid_column": null,
            "overflow_y": null,
            "overflow_x": null,
            "grid_auto_flow": null,
            "grid_area": null,
            "grid_template_columns": null,
            "flex": null,
            "_model_name": "LayoutModel",
            "justify_items": null,
            "grid_row": null,
            "max_height": null,
            "align_content": null,
            "visibility": null,
            "align_self": null,
            "height": null,
            "min_height": null,
            "padding": null,
            "grid_auto_rows": null,
            "grid_gap": null,
            "max_width": null,
            "order": null,
            "_view_module_version": "1.2.0",
            "grid_template_areas": null,
            "object_position": null,
            "object_fit": null,
            "grid_auto_columns": null,
            "margin": null,
            "display": null,
            "left": null
          }
        },
        "82f2feeada104373a89db856b2de52ab": {
          "model_module": "@jupyter-widgets/controls",
          "model_name": "FloatProgressModel",
          "state": {
            "_view_name": "ProgressView",
            "style": "IPY_MODEL_3083646094c64271bc02e384b9b6089d",
            "_dom_classes": [],
            "description": "Downloading: 100%",
            "_model_name": "FloatProgressModel",
            "bar_style": "success",
            "max": 435797,
            "_view_module": "@jupyter-widgets/controls",
            "_model_module_version": "1.5.0",
            "value": 435797,
            "_view_count": null,
            "_view_module_version": "1.5.0",
            "orientation": "horizontal",
            "min": 0,
            "description_tooltip": null,
            "_model_module": "@jupyter-widgets/controls",
            "layout": "IPY_MODEL_5c2b6b8055384a34906694f3d8146eca"
          }
        },
        "a3dfcac5ee614506bc7614b0b68a3cea": {
          "model_module": "@jupyter-widgets/controls",
          "model_name": "HTMLModel",
          "state": {
            "_view_name": "HTMLView",
            "style": "IPY_MODEL_68dbd0566e924373893affe16c98f8dd",
            "_dom_classes": [],
            "description": "",
            "_model_name": "HTMLModel",
            "placeholder": "​",
            "_view_module": "@jupyter-widgets/controls",
            "_model_module_version": "1.5.0",
            "value": " 436k/436k [00:00&lt;00:00, 753kB/s]",
            "_view_count": null,
            "_view_module_version": "1.5.0",
            "description_tooltip": null,
            "_model_module": "@jupyter-widgets/controls",
            "layout": "IPY_MODEL_03a351a836c54e1b8098fb84ef7b5d61"
          }
        },
        "3083646094c64271bc02e384b9b6089d": {
          "model_module": "@jupyter-widgets/controls",
          "model_name": "ProgressStyleModel",
          "state": {
            "_view_name": "StyleView",
            "_model_name": "ProgressStyleModel",
            "description_width": "initial",
            "_view_module": "@jupyter-widgets/base",
            "_model_module_version": "1.5.0",
            "_view_count": null,
            "_view_module_version": "1.2.0",
            "bar_color": null,
            "_model_module": "@jupyter-widgets/controls"
          }
        },
        "5c2b6b8055384a34906694f3d8146eca": {
          "model_module": "@jupyter-widgets/base",
          "model_name": "LayoutModel",
          "state": {
            "_view_name": "LayoutView",
            "grid_template_rows": null,
            "right": null,
            "justify_content": null,
            "_view_module": "@jupyter-widgets/base",
            "overflow": null,
            "_model_module_version": "1.2.0",
            "_view_count": null,
            "flex_flow": null,
            "width": null,
            "min_width": null,
            "border": null,
            "align_items": null,
            "bottom": null,
            "_model_module": "@jupyter-widgets/base",
            "top": null,
            "grid_column": null,
            "overflow_y": null,
            "overflow_x": null,
            "grid_auto_flow": null,
            "grid_area": null,
            "grid_template_columns": null,
            "flex": null,
            "_model_name": "LayoutModel",
            "justify_items": null,
            "grid_row": null,
            "max_height": null,
            "align_content": null,
            "visibility": null,
            "align_self": null,
            "height": null,
            "min_height": null,
            "padding": null,
            "grid_auto_rows": null,
            "grid_gap": null,
            "max_width": null,
            "order": null,
            "_view_module_version": "1.2.0",
            "grid_template_areas": null,
            "object_position": null,
            "object_fit": null,
            "grid_auto_columns": null,
            "margin": null,
            "display": null,
            "left": null
          }
        },
        "68dbd0566e924373893affe16c98f8dd": {
          "model_module": "@jupyter-widgets/controls",
          "model_name": "DescriptionStyleModel",
          "state": {
            "_view_name": "StyleView",
            "_model_name": "DescriptionStyleModel",
            "description_width": "",
            "_view_module": "@jupyter-widgets/base",
            "_model_module_version": "1.5.0",
            "_view_count": null,
            "_view_module_version": "1.2.0",
            "_model_module": "@jupyter-widgets/controls"
          }
        },
        "03a351a836c54e1b8098fb84ef7b5d61": {
          "model_module": "@jupyter-widgets/base",
          "model_name": "LayoutModel",
          "state": {
            "_view_name": "LayoutView",
            "grid_template_rows": null,
            "right": null,
            "justify_content": null,
            "_view_module": "@jupyter-widgets/base",
            "overflow": null,
            "_model_module_version": "1.2.0",
            "_view_count": null,
            "flex_flow": null,
            "width": null,
            "min_width": null,
            "border": null,
            "align_items": null,
            "bottom": null,
            "_model_module": "@jupyter-widgets/base",
            "top": null,
            "grid_column": null,
            "overflow_y": null,
            "overflow_x": null,
            "grid_auto_flow": null,
            "grid_area": null,
            "grid_template_columns": null,
            "flex": null,
            "_model_name": "LayoutModel",
            "justify_items": null,
            "grid_row": null,
            "max_height": null,
            "align_content": null,
            "visibility": null,
            "align_self": null,
            "height": null,
            "min_height": null,
            "padding": null,
            "grid_auto_rows": null,
            "grid_gap": null,
            "max_width": null,
            "order": null,
            "_view_module_version": "1.2.0",
            "grid_template_areas": null,
            "object_position": null,
            "object_fit": null,
            "grid_auto_columns": null,
            "margin": null,
            "display": null,
            "left": null
          }
        },
        "92b79ab65da04521aa2bc98d595913d4": {
          "model_module": "@jupyter-widgets/controls",
          "model_name": "HBoxModel",
          "state": {
            "_view_name": "HBoxView",
            "_dom_classes": [],
            "_model_name": "HBoxModel",
            "_view_module": "@jupyter-widgets/controls",
            "_model_module_version": "1.5.0",
            "_view_count": null,
            "_view_module_version": "1.5.0",
            "box_style": "",
            "layout": "IPY_MODEL_18e37f9fb7ba448bb11943726d5f6d6a",
            "_model_module": "@jupyter-widgets/controls",
            "children": [
              "IPY_MODEL_4dfd9fcb25ea48699a755895c0ca945f",
              "IPY_MODEL_8bed44095a3849aaa250b5a20bbc226a"
            ]
          }
        },
        "18e37f9fb7ba448bb11943726d5f6d6a": {
          "model_module": "@jupyter-widgets/base",
          "model_name": "LayoutModel",
          "state": {
            "_view_name": "LayoutView",
            "grid_template_rows": null,
            "right": null,
            "justify_content": null,
            "_view_module": "@jupyter-widgets/base",
            "overflow": null,
            "_model_module_version": "1.2.0",
            "_view_count": null,
            "flex_flow": null,
            "width": null,
            "min_width": null,
            "border": null,
            "align_items": null,
            "bottom": null,
            "_model_module": "@jupyter-widgets/base",
            "top": null,
            "grid_column": null,
            "overflow_y": null,
            "overflow_x": null,
            "grid_auto_flow": null,
            "grid_area": null,
            "grid_template_columns": null,
            "flex": null,
            "_model_name": "LayoutModel",
            "justify_items": null,
            "grid_row": null,
            "max_height": null,
            "align_content": null,
            "visibility": null,
            "align_self": null,
            "height": null,
            "min_height": null,
            "padding": null,
            "grid_auto_rows": null,
            "grid_gap": null,
            "max_width": null,
            "order": null,
            "_view_module_version": "1.2.0",
            "grid_template_areas": null,
            "object_position": null,
            "object_fit": null,
            "grid_auto_columns": null,
            "margin": null,
            "display": null,
            "left": null
          }
        },
        "4dfd9fcb25ea48699a755895c0ca945f": {
          "model_module": "@jupyter-widgets/controls",
          "model_name": "FloatProgressModel",
          "state": {
            "_view_name": "ProgressView",
            "style": "IPY_MODEL_08727fea05fd42bd95dd9632c550715c",
            "_dom_classes": [],
            "description": "Downloading: 100%",
            "_model_name": "FloatProgressModel",
            "bar_style": "success",
            "max": 29,
            "_view_module": "@jupyter-widgets/controls",
            "_model_module_version": "1.5.0",
            "value": 29,
            "_view_count": null,
            "_view_module_version": "1.5.0",
            "orientation": "horizontal",
            "min": 0,
            "description_tooltip": null,
            "_model_module": "@jupyter-widgets/controls",
            "layout": "IPY_MODEL_27f68171fc5f4d68b72b03caa95ad5ce"
          }
        },
        "8bed44095a3849aaa250b5a20bbc226a": {
          "model_module": "@jupyter-widgets/controls",
          "model_name": "HTMLModel",
          "state": {
            "_view_name": "HTMLView",
            "style": "IPY_MODEL_c7afe3491d474d3eb3bb570b634e4640",
            "_dom_classes": [],
            "description": "",
            "_model_name": "HTMLModel",
            "placeholder": "​",
            "_view_module": "@jupyter-widgets/controls",
            "_model_module_version": "1.5.0",
            "value": " 29.0/29.0 [00:00&lt;00:00, 135B/s]",
            "_view_count": null,
            "_view_module_version": "1.5.0",
            "description_tooltip": null,
            "_model_module": "@jupyter-widgets/controls",
            "layout": "IPY_MODEL_f36e5af403a44e31996d089e9dfece97"
          }
        },
        "08727fea05fd42bd95dd9632c550715c": {
          "model_module": "@jupyter-widgets/controls",
          "model_name": "ProgressStyleModel",
          "state": {
            "_view_name": "StyleView",
            "_model_name": "ProgressStyleModel",
            "description_width": "initial",
            "_view_module": "@jupyter-widgets/base",
            "_model_module_version": "1.5.0",
            "_view_count": null,
            "_view_module_version": "1.2.0",
            "bar_color": null,
            "_model_module": "@jupyter-widgets/controls"
          }
        },
        "27f68171fc5f4d68b72b03caa95ad5ce": {
          "model_module": "@jupyter-widgets/base",
          "model_name": "LayoutModel",
          "state": {
            "_view_name": "LayoutView",
            "grid_template_rows": null,
            "right": null,
            "justify_content": null,
            "_view_module": "@jupyter-widgets/base",
            "overflow": null,
            "_model_module_version": "1.2.0",
            "_view_count": null,
            "flex_flow": null,
            "width": null,
            "min_width": null,
            "border": null,
            "align_items": null,
            "bottom": null,
            "_model_module": "@jupyter-widgets/base",
            "top": null,
            "grid_column": null,
            "overflow_y": null,
            "overflow_x": null,
            "grid_auto_flow": null,
            "grid_area": null,
            "grid_template_columns": null,
            "flex": null,
            "_model_name": "LayoutModel",
            "justify_items": null,
            "grid_row": null,
            "max_height": null,
            "align_content": null,
            "visibility": null,
            "align_self": null,
            "height": null,
            "min_height": null,
            "padding": null,
            "grid_auto_rows": null,
            "grid_gap": null,
            "max_width": null,
            "order": null,
            "_view_module_version": "1.2.0",
            "grid_template_areas": null,
            "object_position": null,
            "object_fit": null,
            "grid_auto_columns": null,
            "margin": null,
            "display": null,
            "left": null
          }
        },
        "c7afe3491d474d3eb3bb570b634e4640": {
          "model_module": "@jupyter-widgets/controls",
          "model_name": "DescriptionStyleModel",
          "state": {
            "_view_name": "StyleView",
            "_model_name": "DescriptionStyleModel",
            "description_width": "",
            "_view_module": "@jupyter-widgets/base",
            "_model_module_version": "1.5.0",
            "_view_count": null,
            "_view_module_version": "1.2.0",
            "_model_module": "@jupyter-widgets/controls"
          }
        },
        "f36e5af403a44e31996d089e9dfece97": {
          "model_module": "@jupyter-widgets/base",
          "model_name": "LayoutModel",
          "state": {
            "_view_name": "LayoutView",
            "grid_template_rows": null,
            "right": null,
            "justify_content": null,
            "_view_module": "@jupyter-widgets/base",
            "overflow": null,
            "_model_module_version": "1.2.0",
            "_view_count": null,
            "flex_flow": null,
            "width": null,
            "min_width": null,
            "border": null,
            "align_items": null,
            "bottom": null,
            "_model_module": "@jupyter-widgets/base",
            "top": null,
            "grid_column": null,
            "overflow_y": null,
            "overflow_x": null,
            "grid_auto_flow": null,
            "grid_area": null,
            "grid_template_columns": null,
            "flex": null,
            "_model_name": "LayoutModel",
            "justify_items": null,
            "grid_row": null,
            "max_height": null,
            "align_content": null,
            "visibility": null,
            "align_self": null,
            "height": null,
            "min_height": null,
            "padding": null,
            "grid_auto_rows": null,
            "grid_gap": null,
            "max_width": null,
            "order": null,
            "_view_module_version": "1.2.0",
            "grid_template_areas": null,
            "object_position": null,
            "object_fit": null,
            "grid_auto_columns": null,
            "margin": null,
            "display": null,
            "left": null
          }
        }
      }
    }
  },
  "cells": [
    {
      "cell_type": "markdown",
      "metadata": {
        "id": "6kZ7r56vPdrU"
      },
      "source": [
        "# W266 Final Project Notebook \n",
        "This notebook produces the DistilBERT and BERT classifiers for my project~"
      ],
      "id": "6kZ7r56vPdrU"
    },
    {
      "cell_type": "code",
      "metadata": {
        "colab": {
          "base_uri": "https://localhost:8080/"
        },
        "id": "TMYFMR9TutcT",
        "outputId": "d6f5dce1-de77-4896-ce13-b0db555e89f8"
      },
      "source": [
        "!pip install transformers --quiet"
      ],
      "id": "TMYFMR9TutcT",
      "execution_count": 1,
      "outputs": [
        {
          "output_type": "stream",
          "text": [
            "\u001b[K     |████████████████████████████████| 2.2MB 6.3MB/s \n",
            "\u001b[K     |████████████████████████████████| 870kB 20.8MB/s \n",
            "\u001b[K     |████████████████████████████████| 3.3MB 39.7MB/s \n",
            "\u001b[?25h  Building wheel for sacremoses (setup.py) ... \u001b[?25l\u001b[?25hdone\n"
          ],
          "name": "stdout"
        }
      ]
    },
    {
      "cell_type": "code",
      "metadata": {
        "colab": {
          "base_uri": "https://localhost:8080/"
        },
        "id": "RVH4GsTTusve",
        "outputId": "685f480a-8830-47db-c230-b7adc1c35d95"
      },
      "source": [
        "!pip install tensorflow_text --quiet"
      ],
      "id": "RVH4GsTTusve",
      "execution_count": 2,
      "outputs": [
        {
          "output_type": "stream",
          "text": [
            "\u001b[K     |████████████████████████████████| 3.4MB 6.6MB/s \n",
            "\u001b[?25h"
          ],
          "name": "stdout"
        }
      ]
    },
    {
      "cell_type": "code",
      "metadata": {
        "id": "incorporate-valentine"
      },
      "source": [
        "import numpy as np\n",
        "import pandas as pd\n",
        "import tensorflow as tf\n",
        "import ast\n",
        "import os\n",
        "import re\n",
        "from tensorflow.keras import regularizers\n",
        "from tensorflow import keras\n",
        "from sklearn.metrics import confusion_matrix\n",
        "import matplotlib.pyplot as plt\n",
        "import seaborn as sns\n",
        "import transformers\n",
        "from transformers import AutoTokenizer,TFAutoModel,DistilBertConfig,TFDistilBertForSequenceClassification,TFDistilBertModel\n",
        "import tensorflow_hub as hub\n",
        "import tensorflow_text as text\n",
        "from tensorflow.keras.models import Model\n",
        "from tensorflow.keras.layers import Dense, Dropout, Flatten, Input, MaxPooling1D, Convolution1D, Embedding,GlobalMaxPooling1D,concatenate,Bidirectional,LSTM\n"
      ],
      "id": "incorporate-valentine",
      "execution_count": 3,
      "outputs": []
    },
    {
      "cell_type": "code",
      "metadata": {
        "colab": {
          "base_uri": "https://localhost:8080/"
        },
        "id": "74djvMQ8KQ7-",
        "outputId": "5902b95c-9134-48c1-d442-54c57509e156"
      },
      "source": [
        "resolver = tf.distribute.cluster_resolver.TPUClusterResolver(tpu='grpc://' + os.environ['COLAB_TPU_ADDR'])\n",
        "\n",
        "tf.config.experimental_connect_to_cluster(resolver)\n",
        "tf.tpu.experimental.initialize_tpu_system(resolver)\n",
        "strategy = tf.distribute.TPUStrategy(resolver)"
      ],
      "id": "74djvMQ8KQ7-",
      "execution_count": 4,
      "outputs": [
        {
          "output_type": "stream",
          "text": [
            "INFO:absl:Entering into master device scope: /job:worker/replica:0/task:0/device:CPU:0\n"
          ],
          "name": "stderr"
        },
        {
          "output_type": "stream",
          "text": [
            "INFO:tensorflow:Initializing the TPU system: grpc://10.114.20.170:8470\n"
          ],
          "name": "stdout"
        },
        {
          "output_type": "stream",
          "text": [
            "INFO:tensorflow:Initializing the TPU system: grpc://10.114.20.170:8470\n"
          ],
          "name": "stderr"
        },
        {
          "output_type": "stream",
          "text": [
            "INFO:tensorflow:Clearing out eager caches\n"
          ],
          "name": "stdout"
        },
        {
          "output_type": "stream",
          "text": [
            "INFO:tensorflow:Clearing out eager caches\n"
          ],
          "name": "stderr"
        },
        {
          "output_type": "stream",
          "text": [
            "INFO:tensorflow:Finished initializing TPU system.\n"
          ],
          "name": "stdout"
        },
        {
          "output_type": "stream",
          "text": [
            "INFO:tensorflow:Finished initializing TPU system.\n"
          ],
          "name": "stderr"
        },
        {
          "output_type": "stream",
          "text": [
            "INFO:tensorflow:Found TPU system:\n"
          ],
          "name": "stdout"
        },
        {
          "output_type": "stream",
          "text": [
            "INFO:tensorflow:Found TPU system:\n"
          ],
          "name": "stderr"
        },
        {
          "output_type": "stream",
          "text": [
            "INFO:tensorflow:*** Num TPU Cores: 8\n"
          ],
          "name": "stdout"
        },
        {
          "output_type": "stream",
          "text": [
            "INFO:tensorflow:*** Num TPU Cores: 8\n"
          ],
          "name": "stderr"
        },
        {
          "output_type": "stream",
          "text": [
            "INFO:tensorflow:*** Num TPU Workers: 1\n"
          ],
          "name": "stdout"
        },
        {
          "output_type": "stream",
          "text": [
            "INFO:tensorflow:*** Num TPU Workers: 1\n"
          ],
          "name": "stderr"
        },
        {
          "output_type": "stream",
          "text": [
            "INFO:tensorflow:*** Num TPU Cores Per Worker: 8\n"
          ],
          "name": "stdout"
        },
        {
          "output_type": "stream",
          "text": [
            "INFO:tensorflow:*** Num TPU Cores Per Worker: 8\n"
          ],
          "name": "stderr"
        },
        {
          "output_type": "stream",
          "text": [
            "INFO:tensorflow:*** Available Device: _DeviceAttributes(/job:localhost/replica:0/task:0/device:CPU:0, CPU, 0, 0)\n"
          ],
          "name": "stdout"
        },
        {
          "output_type": "stream",
          "text": [
            "INFO:tensorflow:*** Available Device: _DeviceAttributes(/job:localhost/replica:0/task:0/device:CPU:0, CPU, 0, 0)\n"
          ],
          "name": "stderr"
        },
        {
          "output_type": "stream",
          "text": [
            "INFO:tensorflow:*** Available Device: _DeviceAttributes(/job:worker/replica:0/task:0/device:CPU:0, CPU, 0, 0)\n"
          ],
          "name": "stdout"
        },
        {
          "output_type": "stream",
          "text": [
            "INFO:tensorflow:*** Available Device: _DeviceAttributes(/job:worker/replica:0/task:0/device:CPU:0, CPU, 0, 0)\n"
          ],
          "name": "stderr"
        },
        {
          "output_type": "stream",
          "text": [
            "INFO:tensorflow:*** Available Device: _DeviceAttributes(/job:worker/replica:0/task:0/device:TPU:0, TPU, 0, 0)\n"
          ],
          "name": "stdout"
        },
        {
          "output_type": "stream",
          "text": [
            "INFO:tensorflow:*** Available Device: _DeviceAttributes(/job:worker/replica:0/task:0/device:TPU:0, TPU, 0, 0)\n"
          ],
          "name": "stderr"
        },
        {
          "output_type": "stream",
          "text": [
            "INFO:tensorflow:*** Available Device: _DeviceAttributes(/job:worker/replica:0/task:0/device:TPU:1, TPU, 0, 0)\n"
          ],
          "name": "stdout"
        },
        {
          "output_type": "stream",
          "text": [
            "INFO:tensorflow:*** Available Device: _DeviceAttributes(/job:worker/replica:0/task:0/device:TPU:1, TPU, 0, 0)\n"
          ],
          "name": "stderr"
        },
        {
          "output_type": "stream",
          "text": [
            "INFO:tensorflow:*** Available Device: _DeviceAttributes(/job:worker/replica:0/task:0/device:TPU:2, TPU, 0, 0)\n"
          ],
          "name": "stdout"
        },
        {
          "output_type": "stream",
          "text": [
            "INFO:tensorflow:*** Available Device: _DeviceAttributes(/job:worker/replica:0/task:0/device:TPU:2, TPU, 0, 0)\n"
          ],
          "name": "stderr"
        },
        {
          "output_type": "stream",
          "text": [
            "INFO:tensorflow:*** Available Device: _DeviceAttributes(/job:worker/replica:0/task:0/device:TPU:3, TPU, 0, 0)\n"
          ],
          "name": "stdout"
        },
        {
          "output_type": "stream",
          "text": [
            "INFO:tensorflow:*** Available Device: _DeviceAttributes(/job:worker/replica:0/task:0/device:TPU:3, TPU, 0, 0)\n"
          ],
          "name": "stderr"
        },
        {
          "output_type": "stream",
          "text": [
            "INFO:tensorflow:*** Available Device: _DeviceAttributes(/job:worker/replica:0/task:0/device:TPU:4, TPU, 0, 0)\n"
          ],
          "name": "stdout"
        },
        {
          "output_type": "stream",
          "text": [
            "INFO:tensorflow:*** Available Device: _DeviceAttributes(/job:worker/replica:0/task:0/device:TPU:4, TPU, 0, 0)\n"
          ],
          "name": "stderr"
        },
        {
          "output_type": "stream",
          "text": [
            "INFO:tensorflow:*** Available Device: _DeviceAttributes(/job:worker/replica:0/task:0/device:TPU:5, TPU, 0, 0)\n"
          ],
          "name": "stdout"
        },
        {
          "output_type": "stream",
          "text": [
            "INFO:tensorflow:*** Available Device: _DeviceAttributes(/job:worker/replica:0/task:0/device:TPU:5, TPU, 0, 0)\n"
          ],
          "name": "stderr"
        },
        {
          "output_type": "stream",
          "text": [
            "INFO:tensorflow:*** Available Device: _DeviceAttributes(/job:worker/replica:0/task:0/device:TPU:6, TPU, 0, 0)\n"
          ],
          "name": "stdout"
        },
        {
          "output_type": "stream",
          "text": [
            "INFO:tensorflow:*** Available Device: _DeviceAttributes(/job:worker/replica:0/task:0/device:TPU:6, TPU, 0, 0)\n"
          ],
          "name": "stderr"
        },
        {
          "output_type": "stream",
          "text": [
            "INFO:tensorflow:*** Available Device: _DeviceAttributes(/job:worker/replica:0/task:0/device:TPU:7, TPU, 0, 0)\n"
          ],
          "name": "stdout"
        },
        {
          "output_type": "stream",
          "text": [
            "INFO:tensorflow:*** Available Device: _DeviceAttributes(/job:worker/replica:0/task:0/device:TPU:7, TPU, 0, 0)\n"
          ],
          "name": "stderr"
        },
        {
          "output_type": "stream",
          "text": [
            "INFO:tensorflow:*** Available Device: _DeviceAttributes(/job:worker/replica:0/task:0/device:TPU_SYSTEM:0, TPU_SYSTEM, 0, 0)\n"
          ],
          "name": "stdout"
        },
        {
          "output_type": "stream",
          "text": [
            "INFO:tensorflow:*** Available Device: _DeviceAttributes(/job:worker/replica:0/task:0/device:TPU_SYSTEM:0, TPU_SYSTEM, 0, 0)\n"
          ],
          "name": "stderr"
        },
        {
          "output_type": "stream",
          "text": [
            "INFO:tensorflow:*** Available Device: _DeviceAttributes(/job:worker/replica:0/task:0/device:XLA_CPU:0, XLA_CPU, 0, 0)\n"
          ],
          "name": "stdout"
        },
        {
          "output_type": "stream",
          "text": [
            "INFO:tensorflow:*** Available Device: _DeviceAttributes(/job:worker/replica:0/task:0/device:XLA_CPU:0, XLA_CPU, 0, 0)\n"
          ],
          "name": "stderr"
        }
      ]
    },
    {
      "cell_type": "code",
      "metadata": {
        "colab": {
          "base_uri": "https://localhost:8080/"
        },
        "id": "leeqd8yYTDGh",
        "outputId": "7ed2be2b-1a9c-4a68-9695-47f8933440e1"
      },
      "source": [
        "from google.colab import drive\n",
        "drive.mount('/content/drive')"
      ],
      "id": "leeqd8yYTDGh",
      "execution_count": 5,
      "outputs": [
        {
          "output_type": "stream",
          "text": [
            "Mounted at /content/drive\n"
          ],
          "name": "stdout"
        }
      ]
    },
    {
      "cell_type": "code",
      "metadata": {
        "id": "_45hiJakTPeH"
      },
      "source": [
        "path = \"/content/drive/MyDrive/w266/cleaned_data.csv\"\n",
        "data = pd.read_csv(path)"
      ],
      "id": "_45hiJakTPeH",
      "execution_count": 6,
      "outputs": []
    },
    {
      "cell_type": "code",
      "metadata": {
        "scrolled": true,
        "colab": {
          "base_uri": "https://localhost:8080/",
          "height": 405
        },
        "id": "middle-antigua",
        "outputId": "cfbdf4ab-d6c2-410e-cacf-54c91f891e15"
      },
      "source": [
        "data.head()"
      ],
      "id": "middle-antigua",
      "execution_count": 7,
      "outputs": [
        {
          "output_type": "execute_result",
          "data": {
            "text/html": [
              "<div>\n",
              "<style scoped>\n",
              "    .dataframe tbody tr th:only-of-type {\n",
              "        vertical-align: middle;\n",
              "    }\n",
              "\n",
              "    .dataframe tbody tr th {\n",
              "        vertical-align: top;\n",
              "    }\n",
              "\n",
              "    .dataframe thead th {\n",
              "        text-align: right;\n",
              "    }\n",
              "</style>\n",
              "<table border=\"1\" class=\"dataframe\">\n",
              "  <thead>\n",
              "    <tr style=\"text-align: right;\">\n",
              "      <th></th>\n",
              "      <th>name</th>\n",
              "      <th>date</th>\n",
              "      <th>platform</th>\n",
              "      <th>score</th>\n",
              "      <th>summary</th>\n",
              "      <th>url</th>\n",
              "      <th>userscore</th>\n",
              "      <th>fullurl</th>\n",
              "      <th>developer</th>\n",
              "      <th>genre</th>\n",
              "      <th>user_reviews</th>\n",
              "      <th>critic_reviews</th>\n",
              "    </tr>\n",
              "  </thead>\n",
              "  <tbody>\n",
              "    <tr>\n",
              "      <th>0</th>\n",
              "      <td>Tony Hawk's Pro Skater 2</td>\n",
              "      <td>September 20, 2000</td>\n",
              "      <td>PlayStation</td>\n",
              "      <td>98</td>\n",
              "      <td>As most major publishers' development efforts ...</td>\n",
              "      <td>/game/playstation/tony-hawks-pro-skater-2</td>\n",
              "      <td>7.4</td>\n",
              "      <td>https://www.metacritic.com/game/playstation/to...</td>\n",
              "      <td>Neversoft Entertainment</td>\n",
              "      <td>['Sports', 'Alternative', 'Skateboarding']</td>\n",
              "      <td>[\"Breath-taking, still replayable to this day....</td>\n",
              "      <td>['The best skateboarding game ever and one of ...</td>\n",
              "    </tr>\n",
              "    <tr>\n",
              "      <th>1</th>\n",
              "      <td>Tony Hawk's Pro Skater 2</td>\n",
              "      <td>November 6, 2000</td>\n",
              "      <td>Dreamcast</td>\n",
              "      <td>97</td>\n",
              "      <td>Hawk's back - with new technology, new pros an...</td>\n",
              "      <td>/game/dreamcast/tony-hawks-pro-skater-2</td>\n",
              "      <td>6.1</td>\n",
              "      <td>https://www.metacritic.com/game/dreamcast/tony...</td>\n",
              "      <td>Treyarch</td>\n",
              "      <td>['Sports', 'Alternative', 'Skateboarding']</td>\n",
              "      <td>[\"Now this game was what I remember being the ...</td>\n",
              "      <td>[\"There's enough skaters, objectives, levels, ...</td>\n",
              "    </tr>\n",
              "    <tr>\n",
              "      <th>2</th>\n",
              "      <td>Perfect Dark</td>\n",
              "      <td>May 22, 2000</td>\n",
              "      <td>Nintendo 64</td>\n",
              "      <td>97</td>\n",
              "      <td>Step into the Dark... As Carrington Institute'...</td>\n",
              "      <td>/game/nintendo-64/perfect-dark</td>\n",
              "      <td>8.8</td>\n",
              "      <td>https://www.metacritic.com/game/nintendo-64/pe...</td>\n",
              "      <td>Rare Ltd.</td>\n",
              "      <td>['Action', 'Shooter', 'First-Person', 'Sci-Fi']</td>\n",
              "      <td>[\"I bought Perfect Dark the day it was release...</td>\n",
              "      <td>[\"It's a stunning achievement by any measure a...</td>\n",
              "    </tr>\n",
              "    <tr>\n",
              "      <th>3</th>\n",
              "      <td>NFL 2K1</td>\n",
              "      <td>September 7, 2000</td>\n",
              "      <td>Dreamcast</td>\n",
              "      <td>97</td>\n",
              "      <td>In the end, NFL 2K1 is a deeper, more refined ...</td>\n",
              "      <td>/game/dreamcast/nfl-2k1</td>\n",
              "      <td>6.4</td>\n",
              "      <td>https://www.metacritic.com/game/dreamcast/nfl-2k1</td>\n",
              "      <td>Visual Concepts</td>\n",
              "      <td>['Sports', 'Traditional', 'Football', 'Sim']</td>\n",
              "      <td>['This game still holds its own after four yea...</td>\n",
              "      <td>[\"Not only is this the first console game that...</td>\n",
              "    </tr>\n",
              "    <tr>\n",
              "      <th>4</th>\n",
              "      <td>Baldur's Gate II: Shadows of Amn</td>\n",
              "      <td>September 24, 2000</td>\n",
              "      <td>PC</td>\n",
              "      <td>95</td>\n",
              "      <td>An epic continuation of the story that began i...</td>\n",
              "      <td>/game/pc/baldurs-gate-ii-shadows-of-amn</td>\n",
              "      <td>9.1</td>\n",
              "      <td>https://www.metacritic.com/game/pc/baldurs-gat...</td>\n",
              "      <td>BioWare</td>\n",
              "      <td>['Role-Playing', 'PC-style RPG', 'PC-style RPG...</td>\n",
              "      <td>['Quite possibly the best game ever made! A de...</td>\n",
              "      <td>[\"It's not just vast, but flooded with quests ...</td>\n",
              "    </tr>\n",
              "  </tbody>\n",
              "</table>\n",
              "</div>"
            ],
            "text/plain": [
              "                               name  ...                                     critic_reviews\n",
              "0          Tony Hawk's Pro Skater 2  ...  ['The best skateboarding game ever and one of ...\n",
              "1          Tony Hawk's Pro Skater 2  ...  [\"There's enough skaters, objectives, levels, ...\n",
              "2                      Perfect Dark  ...  [\"It's a stunning achievement by any measure a...\n",
              "3                           NFL 2K1  ...  [\"Not only is this the first console game that...\n",
              "4  Baldur's Gate II: Shadows of Amn  ...  [\"It's not just vast, but flooded with quests ...\n",
              "\n",
              "[5 rows x 12 columns]"
            ]
          },
          "metadata": {
            "tags": []
          },
          "execution_count": 7
        }
      ]
    },
    {
      "cell_type": "code",
      "metadata": {
        "id": "fantastic-specialist"
      },
      "source": [
        "data['critic_reviews'] = data['critic_reviews'].apply(lambda x:np.array(ast.literal_eval(x)))\n",
        "data[\"user_reviews\"] = data[\"user_reviews\"].apply(lambda y:np.array(ast.literal_eval(y)))\n",
        "data = data[data[\"userscore\"]!=\"tbd\"]\n",
        "data['userscore'] = 10*data[\"userscore\"].astype('float')\n",
        "data[\"target\"] = (data[\"score\"]-data[\"userscore\"])\n",
        "data[\"binary_target\"] = data[\"target\"].apply(lambda x: 1 if x>=0 else 0)"
      ],
      "id": "fantastic-specialist",
      "execution_count": 9,
      "outputs": []
    },
    {
      "cell_type": "code",
      "metadata": {
        "colab": {
          "base_uri": "https://localhost:8080/",
          "height": 217,
          "referenced_widgets": [
            "75a17c755e55487daf0eb19268381a74",
            "c89cf4527577442688f083954b6fa8ab",
            "0fa91ee7392e4a4caa8063ee0aa60e28",
            "45e82311fcdf4868a0a752b5969c7efd",
            "4d30b3537daf441a8c1b39104cbea4b5",
            "f402afed45f14bebac39c03b8914e73a",
            "6a36614c4e124e22b51b2ae0e06402ef",
            "13498d044e86408a93cea4c1244ba7c8",
            "0c275f4a7fd14fa58f51ae1b365b352e",
            "f4da98640b9d4e3cb3a71a7b38a03d23",
            "3f3418b6c8cf436d931828d5e615b1fd",
            "2c6bd90d42d0486db972094a01a03be0",
            "1554f585813b42f4bf5b9b83a8bf00d1",
            "beca4167ea48430283de2337a5c83301",
            "38e32f9ab3f24c68a832224e3499c529",
            "2fd380b13e804bd093990f486702120a",
            "a4b14cd5b95741849b818ce6b0ffe07e",
            "2fbc2fcac9a14640bc2320a9b4abbe02",
            "82f2feeada104373a89db856b2de52ab",
            "a3dfcac5ee614506bc7614b0b68a3cea",
            "3083646094c64271bc02e384b9b6089d",
            "5c2b6b8055384a34906694f3d8146eca",
            "68dbd0566e924373893affe16c98f8dd",
            "03a351a836c54e1b8098fb84ef7b5d61",
            "92b79ab65da04521aa2bc98d595913d4",
            "18e37f9fb7ba448bb11943726d5f6d6a",
            "4dfd9fcb25ea48699a755895c0ca945f",
            "8bed44095a3849aaa250b5a20bbc226a",
            "08727fea05fd42bd95dd9632c550715c",
            "27f68171fc5f4d68b72b03caa95ad5ce",
            "c7afe3491d474d3eb3bb570b634e4640",
            "f36e5af403a44e31996d089e9dfece97"
          ]
        },
        "id": "6t8xdSBdJsTq",
        "outputId": "d275bb35-8588-4657-d6cb-517782047d13"
      },
      "source": [
        "tokenizer = AutoTokenizer.from_pretrained(\"bert-base-cased\")\n",
        "# bert = TFAutoModel.from_pretrained(\"bert-base-cased\")"
      ],
      "id": "6t8xdSBdJsTq",
      "execution_count": 10,
      "outputs": [
        {
          "output_type": "display_data",
          "data": {
            "application/vnd.jupyter.widget-view+json": {
              "model_id": "75a17c755e55487daf0eb19268381a74",
              "version_minor": 0,
              "version_major": 2
            },
            "text/plain": [
              "HBox(children=(FloatProgress(value=0.0, description='Downloading', max=433.0, style=ProgressStyle(description_…"
            ]
          },
          "metadata": {
            "tags": []
          }
        },
        {
          "output_type": "stream",
          "text": [
            "\n"
          ],
          "name": "stdout"
        },
        {
          "output_type": "display_data",
          "data": {
            "application/vnd.jupyter.widget-view+json": {
              "model_id": "0c275f4a7fd14fa58f51ae1b365b352e",
              "version_minor": 0,
              "version_major": 2
            },
            "text/plain": [
              "HBox(children=(FloatProgress(value=0.0, description='Downloading', max=213450.0, style=ProgressStyle(descripti…"
            ]
          },
          "metadata": {
            "tags": []
          }
        },
        {
          "output_type": "stream",
          "text": [
            "\n"
          ],
          "name": "stdout"
        },
        {
          "output_type": "display_data",
          "data": {
            "application/vnd.jupyter.widget-view+json": {
              "model_id": "a4b14cd5b95741849b818ce6b0ffe07e",
              "version_minor": 0,
              "version_major": 2
            },
            "text/plain": [
              "HBox(children=(FloatProgress(value=0.0, description='Downloading', max=435797.0, style=ProgressStyle(descripti…"
            ]
          },
          "metadata": {
            "tags": []
          }
        },
        {
          "output_type": "stream",
          "text": [
            "\n"
          ],
          "name": "stdout"
        },
        {
          "output_type": "display_data",
          "data": {
            "application/vnd.jupyter.widget-view+json": {
              "model_id": "92b79ab65da04521aa2bc98d595913d4",
              "version_minor": 0,
              "version_major": 2
            },
            "text/plain": [
              "HBox(children=(FloatProgress(value=0.0, description='Downloading', max=29.0, style=ProgressStyle(description_w…"
            ]
          },
          "metadata": {
            "tags": []
          }
        },
        {
          "output_type": "stream",
          "text": [
            "\n"
          ],
          "name": "stdout"
        }
      ]
    },
    {
      "cell_type": "code",
      "metadata": {
        "id": "improving-pierce"
      },
      "source": [
        "def combine_reviews(df,n_reviews):\n",
        "    copy = df.copy()\n",
        "    np.random.seed(0)\n",
        "    copy[\"critic_reviews\"] = copy[\"critic_reviews\"].apply(lambda x: np.random.choice(x,n_reviews,replace=False) if len(x)>= n_reviews else x)\n",
        "    copy[\"critic_reviews\"] = copy[\"critic_reviews\"].apply(lambda y: \" \".join(y))\n",
        "    copy[\"critic_reviews\"] = copy[\"critic_reviews\"].apply(clean_text)\n",
        "    copy[\"user_reviews\"] = (copy[\"user_reviews\"]\n",
        "                          .apply(lambda x: np.random.choice(x,n_reviews,replace=False) if len(x)>= n_reviews else x))\n",
        "    copy[\"user_reviews\"] = copy[\"user_reviews\"].apply(lambda y: \" \".join(y))\n",
        "    copy[\"user_reviews\"] = copy[\"user_reviews\"].apply(clean_text)\n",
        "    return copy\n",
        "def clean_text(w):\n",
        "    w = re.sub(r'[^\\x00-\\x7f]',r'', w)\n",
        "    #w = re.sub(r\"([?.!,¿])\", r\" \", w)\n",
        "    w = re.sub(r'[\" \"]+', \" \", w)\n",
        "    w = re.sub(r\"[^a-zA-Z?.!,¿]+\", \" \", w)\n",
        "    w=re.sub(r'@\\w+', '',w)\n",
        "    return w\n",
        "data = combine_reviews(data,7)"
      ],
      "id": "improving-pierce",
      "execution_count": 14,
      "outputs": []
    },
    {
      "cell_type": "code",
      "metadata": {
        "id": "zqUFPGGVjF7O"
      },
      "source": [
        "def tokenize_example(example_critic_review,example_user_review):\n",
        "  tokenized_critic = tokenizer.encode_plus(example_critic_review,add_special_tokens = True,max_length=MAX_LENGTH,padding='max_length',return_attention_mask = True,return_tensors='tf',truncation=True)\n",
        "  tokenized_user = tokenizer.encode_plus(example_user_review,add_special_tokens = True,max_length=MAX_LENGTH,padding='max_length',return_attention_mask = True,return_tensors='tf',truncation=True)\n",
        "  input_ids = np.array([tokenized_critic[\"input_ids\"],tokenized_user[\"input_ids\"]])\n",
        "  attention_masks = np.array([tokenized_critic[\"attention_mask\"],tokenized_user[\"attention_mask\"]])\n",
        "  return input_ids,attention_masks\n"
      ],
      "id": "zqUFPGGVjF7O",
      "execution_count": 16,
      "outputs": []
    },
    {
      "cell_type": "code",
      "metadata": {
        "id": "known-portland"
      },
      "source": [
        "MAX_LENGTH=512\n",
        "critic_input_ids=[]\n",
        "critic_attention_masks=[]\n",
        "\n",
        "user_input_ids=[]\n",
        "user_attention_masks=[]\n",
        "\n",
        "\n",
        "for a,b in zip(data['critic_reviews'],data[\"user_reviews\"]):\n",
        "    critic_inps=tokenizer.encode_plus(a,add_special_tokens = True,max_length=MAX_LENGTH,padding='max_length',return_attention_mask = True,return_tensors='tf',truncation=True)\n",
        "    critic_input_ids.append(tf.reshape(critic_inps['input_ids'], [-1]))\n",
        "    critic_attention_masks.append(tf.reshape(critic_inps['attention_mask'], [-1]))\n",
        "    user_inps=tokenizer.encode_plus(b,add_special_tokens = True,max_length=MAX_LENGTH,padding='max_length',return_attention_mask = True,return_tensors='tf',truncation=True)\n",
        "    user_input_ids.append(tf.reshape(user_inps['input_ids'], [-1]))\n",
        "    user_attention_masks.append(tf.reshape(user_inps['attention_mask'], [-1]))\n",
        "    \n",
        "labels=data[\"binary_target\"].to_numpy()"
      ],
      "id": "known-portland",
      "execution_count": 17,
      "outputs": []
    },
    {
      "cell_type": "code",
      "metadata": {
        "id": "original-benefit"
      },
      "source": [
        ""
      ],
      "id": "original-benefit",
      "execution_count": 18,
      "outputs": []
    },
    {
      "cell_type": "code",
      "metadata": {
        "id": "young-advance"
      },
      "source": [
        "numSentences = len(critic_input_ids)\n",
        "np.random.seed(0)\n",
        "training_examples = np.random.binomial(1, 0.7, numSentences)\n",
        "\n",
        "critic_trainSentence_ids = []\n",
        "critic_trainMasks = []\n",
        "\n",
        "critic_testSentence_ids = []\n",
        "critic_testMasks = []\n",
        "\n",
        "user_trainSentence_ids = []\n",
        "user_trainMasks = []\n",
        "\n",
        "user_testSentence_ids = []\n",
        "user_testMasks = []\n",
        "\n",
        "labels_train =[]\n",
        "labels_test = []\n",
        "\n",
        "\n",
        "for example in range(numSentences):\n",
        "    if training_examples[example] == 1:\n",
        "        critic_trainSentence_ids.append(critic_input_ids[example])\n",
        "        critic_trainMasks.append(critic_attention_masks[example])\n",
        "        user_trainSentence_ids.append(user_input_ids[example])\n",
        "        user_trainMasks.append(user_attention_masks[example])\n",
        "        labels_train.append(labels[example])\n",
        "    else:\n",
        "        critic_testSentence_ids.append(critic_input_ids[example])\n",
        "        critic_testMasks.append(critic_attention_masks[example])\n",
        "        user_testSentence_ids.append(user_input_ids[example])\n",
        "        user_testMasks.append(user_attention_masks[example])\n",
        "        labels_test.append(labels[example])\n",
        "        \n",
        "X_train = np.array([critic_trainSentence_ids,user_trainSentence_ids,critic_trainMasks,user_trainMasks])\n",
        "X_test = np.array([critic_testSentence_ids,user_testSentence_ids,critic_testMasks,user_testMasks])\n",
        "\n",
        "y_train = np.array(labels_train)\n",
        "y_test = np.array(labels_test)"
      ],
      "id": "young-advance",
      "execution_count": 19,
      "outputs": []
    },
    {
      "cell_type": "code",
      "metadata": {
        "id": "UUfK7lz8sqI1"
      },
      "source": [
        "def create_distilbert_model(max_length):\n",
        "    critic_Sentence_ids = tf.keras.layers.Input(shape=(max_length,), dtype='int32', name=\"critic_input_ids\")\n",
        "    critic_Masks = tf.keras.layers.Input(shape=(max_length,), dtype='int32', name=\"critic_input_masks\")\n",
        "    \n",
        "    \n",
        "    critic_bert_inputs = [critic_Sentence_ids,critic_Masks]\n",
        "\n",
        "    user_Sentence_ids = tf.keras.layers.Input(shape=(max_length,), dtype='int32', name=\"user_input_ids\")\n",
        "    user_Masks = tf.keras.layers.Input(shape=(max_length,), dtype='int32', name=\"user_input_masks\")\n",
        "    \n",
        "    \n",
        "    user_bert_inputs = [user_Sentence_ids,user_Masks]\n",
        "\n",
        "    \n",
        "    \n",
        "  \n",
        "    kernel_size=3\n",
        "    config = DistilBertConfig(num_labels=2)\n",
        "    config.output_hidden_states = False\n",
        "    bert=TFDistilBertModel.from_pretrained('distilbert-base-uncased', config = config) \n",
        "    \n",
        "    \n",
        "    critic_bert_sequence = bert(critic_bert_inputs)[0]\n",
        "    user_bert_sequence = bert(user_bert_inputs)[0]\n",
        "    \n",
        "    critic_lstm = Bidirectional(LSTM(50, return_sequences=True, dropout=0.1, recurrent_dropout=0.1))(critic_bert_sequence)\n",
        "    user_lstm = Bidirectional(LSTM(50, return_sequences=True, dropout=0.1, recurrent_dropout=0.1))(user_bert_sequence)\n",
        "  \n",
        "    combined = concatenate([critic_lstm,user_lstm])\n",
        "  \n",
        "    X = tf.keras.layers.GlobalMaxPool1D()(combined)\n",
        "    X = tf.keras.layers.Dense(50, activation='relu')(X)\n",
        "    X = tf.keras.layers.Dropout(0.2)(X)\n",
        "    y = tf.keras.layers.Dense(1, activation='sigmoid', name='outputs')(X) \n",
        "    model = tf.keras.Model(inputs=[critic_Sentence_ids,user_Sentence_ids,critic_Masks,user_Masks], outputs=y)\n",
        "\n",
        "    return model"
      ],
      "id": "UUfK7lz8sqI1",
      "execution_count": 34,
      "outputs": []
    },
    {
      "cell_type": "code",
      "metadata": {
        "colab": {
          "base_uri": "https://localhost:8080/"
        },
        "id": "j5TbV_as7HJs",
        "outputId": "5057c52c-c698-4ede-d032-0f464dee33c6"
      },
      "source": [
        "with strategy.scope():\n",
        "  config = DistilBertConfig(num_labels=2)\n",
        "  config.output_hidden_states = False\n",
        "  distilbert_model=create_distilbert_model(MAX_LENGTH)\n",
        "  distilbert_model.compile(optimizer=tf.keras.optimizers.Adam(1e-5),loss=tf.keras.losses.BinaryCrossentropy(),metrics=[tf.keras.metrics.BinaryAccuracy('accuracy')])"
      ],
      "id": "j5TbV_as7HJs",
      "execution_count": 37,
      "outputs": [
        {
          "output_type": "stream",
          "text": [
            "Some layers from the model checkpoint at distilbert-base-uncased were not used when initializing TFDistilBertModel: ['vocab_transform', 'activation_13', 'vocab_projector', 'vocab_layer_norm']\n",
            "- This IS expected if you are initializing TFDistilBertModel from the checkpoint of a model trained on another task or with another architecture (e.g. initializing a BertForSequenceClassification model from a BertForPreTraining model).\n",
            "- This IS NOT expected if you are initializing TFDistilBertModel from the checkpoint of a model that you expect to be exactly identical (initializing a BertForSequenceClassification model from a BertForSequenceClassification model).\n",
            "All the layers of TFDistilBertModel were initialized from the model checkpoint at distilbert-base-uncased.\n",
            "If your task is similar to the task the model of the checkpoint was trained on, you can already use TFDistilBertModel for predictions without further training.\n"
          ],
          "name": "stderr"
        },
        {
          "output_type": "stream",
          "text": [
            "WARNING:tensorflow:The parameters `output_attentions`, `output_hidden_states` and `use_cache` cannot be updated when calling a model.They have to be set to True/False in the config object (i.e.: `config=XConfig.from_pretrained('name', output_attentions=True)`).\n"
          ],
          "name": "stdout"
        },
        {
          "output_type": "stream",
          "text": [
            "WARNING:tensorflow:The parameters `output_attentions`, `output_hidden_states` and `use_cache` cannot be updated when calling a model.They have to be set to True/False in the config object (i.e.: `config=XConfig.from_pretrained('name', output_attentions=True)`).\n"
          ],
          "name": "stderr"
        },
        {
          "output_type": "stream",
          "text": [
            "WARNING:tensorflow:The parameter `return_dict` cannot be set in graph mode and will always be set to `True`.\n"
          ],
          "name": "stdout"
        },
        {
          "output_type": "stream",
          "text": [
            "WARNING:tensorflow:The parameter `return_dict` cannot be set in graph mode and will always be set to `True`.\n"
          ],
          "name": "stderr"
        },
        {
          "output_type": "stream",
          "text": [
            "WARNING:tensorflow:The parameters `output_attentions`, `output_hidden_states` and `use_cache` cannot be updated when calling a model.They have to be set to True/False in the config object (i.e.: `config=XConfig.from_pretrained('name', output_attentions=True)`).\n"
          ],
          "name": "stdout"
        },
        {
          "output_type": "stream",
          "text": [
            "WARNING:tensorflow:The parameters `output_attentions`, `output_hidden_states` and `use_cache` cannot be updated when calling a model.They have to be set to True/False in the config object (i.e.: `config=XConfig.from_pretrained('name', output_attentions=True)`).\n"
          ],
          "name": "stderr"
        },
        {
          "output_type": "stream",
          "text": [
            "WARNING:tensorflow:The parameter `return_dict` cannot be set in graph mode and will always be set to `True`.\n"
          ],
          "name": "stdout"
        },
        {
          "output_type": "stream",
          "text": [
            "WARNING:tensorflow:The parameter `return_dict` cannot be set in graph mode and will always be set to `True`.\n"
          ],
          "name": "stderr"
        },
        {
          "output_type": "stream",
          "text": [
            "Let us check the shape of the critic BERT layer output: KerasTensor(type_spec=TensorSpec(shape=(None, 512, 768), dtype=tf.float32, name=None), name='tf_distil_bert_model_2/distilbert/transformer/layer_._5/output_layer_norm/batchnorm/add_1:0', description=\"created by layer 'tf_distil_bert_model_2'\")\n",
            "Let us check the shape of the user BERT layer output: KerasTensor(type_spec=TensorSpec(shape=(None, 512, 768), dtype=tf.float32, name=None), name='tf_distil_bert_model_2/distilbert/transformer/layer_._5/output_layer_norm/batchnorm/add_1:0', description=\"created by layer 'tf_distil_bert_model_2'\")\n"
          ],
          "name": "stdout"
        }
      ]
    },
    {
      "cell_type": "code",
      "metadata": {
        "id": "9ThSewjF_n24"
      },
      "source": [
        "distilbert_history = distilbert_model.fit(\n",
        "    [X_train[0], X_train[1],X_train[2],X_train[3]],\n",
        "    y_train,\n",
        "    epochs=10,\n",
        "    batch_size=64\n",
        ")\n"
      ],
      "id": "9ThSewjF_n24",
      "execution_count": null,
      "outputs": []
    },
    {
      "cell_type": "code",
      "metadata": {
        "id": "oEuNbfNg761K"
      },
      "source": [
        "def create_confusion_matrix(model,title):\n",
        "  y_pred = np.array([np.round(p) for p in model.predict([X_test[0],X_test[1],X_test[2],X_test[3]])]).reshape(-1)\n",
        "  c = confusion_matrix(y_pred,y_test)\n",
        "  group_names = ['True Neg','False Pos','False Neg','True Pos']\n",
        "  group_counts = [\"{0:0.0f}\".format(value) for value in\n",
        "                  c.flatten()]\n",
        "  group_percentages = [\"{0:.2%}\".format(value) for value in\n",
        "                      c.flatten()/np.sum(c)]\n",
        "  labels = [f'{v1}\\n{v2}\\n{v3}' for v1, v2, v3 in\n",
        "            zip(group_names,group_counts,group_percentages)]\n",
        "  labels = np.asarray(labels).reshape(2,2)\n",
        "  sns.heatmap(c ,annot=labels,fmt='')\n",
        "  plt.title(title);\n",
        "  return plt.show()"
      ],
      "id": "oEuNbfNg761K",
      "execution_count": 23,
      "outputs": []
    },
    {
      "cell_type": "code",
      "metadata": {
        "id": "O0GyMoAD_L3V"
      },
      "source": [
        "create_confusion_matrix(distilbert_model,\"DistilBERT LSTM\")"
      ],
      "id": "O0GyMoAD_L3V",
      "execution_count": null,
      "outputs": []
    },
    {
      "cell_type": "code",
      "metadata": {
        "id": "DsnnnyggRQhh"
      },
      "source": [
        "def create_bert_model_lstm(max_length):\n",
        "    critic_Sentence_ids = tf.keras.layers.Input(shape=(max_length,), dtype='int32', name=\"critic_input_ids\")\n",
        "    critic_Masks = tf.keras.layers.Input(shape=(max_length,), dtype='int32', name=\"critic_input_masks\")\n",
        "    \n",
        "    \n",
        "    critic_bert_inputs = [critic_Sentence_ids,critic_Masks]\n",
        "\n",
        "    user_Sentence_ids = tf.keras.layers.Input(shape=(max_length,), dtype='int32', name=\"user_input_ids\")\n",
        "    user_Masks = tf.keras.layers.Input(shape=(max_length,), dtype='int32', name=\"user_input_masks\")\n",
        "    \n",
        "    \n",
        "    user_bert_inputs = [user_Sentence_ids,user_Masks]\n",
        "\n",
        "    \n",
        "    \n",
        "  \n",
        "    kernel_size=3\n",
        "    bert = TFAutoModel.from_pretrained(\"bert-base-cased\") \n",
        "    \n",
        "    \n",
        "    critic_bert_sequence = bert(critic_bert_inputs)[0]\n",
        "    user_bert_sequence = bert(user_bert_inputs)[0]\n",
        "    \n",
        "    critic_lstm = Bidirectional(LSTM(50, return_sequences=True, dropout=0.1, recurrent_dropout=0.1))(critic_bert_sequence)\n",
        "    user_lstm = Bidirectional(LSTM(50, return_sequences=True, dropout=0.1, recurrent_dropout=0.1))(user_bert_sequence)\n",
        "      \n",
        "    combined = concatenate([critic_lstm,user_lstm])\n",
        "    \n",
        "    X = tf.keras.layers.GlobalMaxPool1D()(combined)\n",
        "    X = tf.keras.layers.Dense(50, activation='relu')(X)\n",
        "    X = tf.keras.layers.Dropout(0.2)(X)\n",
        "    y = tf.keras.layers.Dense(1, activation='sigmoid', name='outputs')(X) \n",
        "    model = tf.keras.Model(inputs=[critic_Sentence_ids,user_Sentence_ids,critic_Masks,user_Masks], outputs=y)\n",
        "    model.layers[2].trainable = False\n",
        "    model.summary()\n",
        "    return model"
      ],
      "id": "DsnnnyggRQhh",
      "execution_count": null,
      "outputs": []
    },
    {
      "cell_type": "code",
      "metadata": {
        "id": "essential-validation"
      },
      "source": [
        "with strategy.scope():\n",
        "  lstm_bert_model=create_bert_model_lstm(MAX_LENGTH)\n",
        "  lstm_bert_model.compile(optimizer=tf.keras.optimizers.Adam(1e-5),loss=tf.keras.losses.BinaryCrossentropy(),metrics=[tf.keras.metrics.BinaryAccuracy('accuracy')])"
      ],
      "id": "essential-validation",
      "execution_count": null,
      "outputs": []
    },
    {
      "cell_type": "code",
      "metadata": {
        "id": "1D7yRjDvV-Pe"
      },
      "source": [
        "lstm_bert_history = lstm_bert_model.fit(\n",
        "    [X_train[0], X_train[1],X_train[2],X_train[3]],\n",
        "    y_train,\n",
        "    epochs=5,\n",
        "    batch_size=32\n",
        ")\n"
      ],
      "id": "1D7yRjDvV-Pe",
      "execution_count": null,
      "outputs": []
    },
    {
      "cell_type": "code",
      "metadata": {
        "id": "PBOEY62wjRcs"
      },
      "source": [
        "def create_bert_model_cnn(max_length):\n",
        "    critic_Sentence_ids = tf.keras.layers.Input(shape=(max_length,), dtype='int32', name=\"critic_input_ids\")\n",
        "    critic_Masks = tf.keras.layers.Input(shape=(max_length,), dtype='int32', name=\"critic_input_masks\")\n",
        "    \n",
        "    \n",
        "    critic_bert_inputs = [critic_Sentence_ids,critic_Masks]\n",
        "\n",
        "    user_Sentence_ids = tf.keras.layers.Input(shape=(max_length,), dtype='int32', name=\"user_input_ids\")\n",
        "    user_Masks = tf.keras.layers.Input(shape=(max_length,), dtype='int32', name=\"user_input_masks\")\n",
        "    \n",
        "    \n",
        "    user_bert_inputs = [user_Sentence_ids,user_Masks]\n",
        "\n",
        "    \n",
        "    \n",
        "  \n",
        "    kernel_size=3\n",
        "    bert = TFAutoModel.from_pretrained(\"bert-base-cased\") \n",
        "\n",
        "    critic_bert_sequence = bert(critic_bert_inputs)[0]\n",
        "    user_bert_sequence = bert(user_bert_inputs)[0]\n",
        "    print('Let us check the shape of the critic BERT layer output:', critic_bert_sequence)\n",
        "    print('Let us check the shape of the user BERT layer output:', user_bert_sequence)\n",
        "    critic_conv = Convolution1D(128,kernel_size,kernel_initializer='he_normal',activation=\"relu\")(critic_bert_sequence)\n",
        "    user_conv = Convolution1D(128,kernel_size,kernel_initializer='he_normal',activation=\"relu\")(user_bert_sequence)\n",
        "  \n",
        "    critic_pooled = tf.keras.layers.MaxPooling1D(5)(critic_conv)  \n",
        "    user_pooled = tf.keras.layers.MaxPooling1D(5)(user_conv)  \n",
        "    combined = concatenate([critic_conv,user_conv])\n",
        "    X = tf.keras.layers.GlobalMaxPool1D()(combined)\n",
        "    X = tf.keras.layers.Dense(50, activation='relu')(X)\n",
        "    X = tf.keras.layers.Dropout(0.2)(X)\n",
        "    y = tf.keras.layers.Dense(1, activation='sigmoid', name='outputs')(X) \n",
        "    model = tf.keras.Model(inputs=[critic_Sentence_ids,user_Sentence_ids,critic_Masks,user_Masks], outputs=y)\n",
        "    \n",
        "    return model"
      ],
      "id": "PBOEY62wjRcs",
      "execution_count": 24,
      "outputs": []
    },
    {
      "cell_type": "code",
      "metadata": {
        "colab": {
          "base_uri": "https://localhost:8080/"
        },
        "id": "TipCWx1VjRaS",
        "outputId": "432f9ae5-07e4-4419-fafd-5579c291e5c9"
      },
      "source": [
        "with strategy.scope():\n",
        "  cnn_bert_model=create_bert_model_cnn(MAX_LENGTH)\n",
        "  cnn_bert_model.compile(optimizer=tf.keras.optimizers.Adam(2e-5),loss=tf.keras.losses.BinaryCrossentropy(),metrics=[tf.keras.metrics.BinaryAccuracy('accuracy')])"
      ],
      "id": "TipCWx1VjRaS",
      "execution_count": 29,
      "outputs": [
        {
          "output_type": "stream",
          "text": [
            "Some layers from the model checkpoint at bert-base-cased were not used when initializing TFBertModel: ['nsp___cls', 'mlm___cls']\n",
            "- This IS expected if you are initializing TFBertModel from the checkpoint of a model trained on another task or with another architecture (e.g. initializing a BertForSequenceClassification model from a BertForPreTraining model).\n",
            "- This IS NOT expected if you are initializing TFBertModel from the checkpoint of a model that you expect to be exactly identical (initializing a BertForSequenceClassification model from a BertForSequenceClassification model).\n",
            "All the layers of TFBertModel were initialized from the model checkpoint at bert-base-cased.\n",
            "If your task is similar to the task the model of the checkpoint was trained on, you can already use TFBertModel for predictions without further training.\n"
          ],
          "name": "stderr"
        },
        {
          "output_type": "stream",
          "text": [
            "WARNING:tensorflow:The parameters `output_attentions`, `output_hidden_states` and `use_cache` cannot be updated when calling a model.They have to be set to True/False in the config object (i.e.: `config=XConfig.from_pretrained('name', output_attentions=True)`).\n"
          ],
          "name": "stdout"
        },
        {
          "output_type": "stream",
          "text": [
            "WARNING:tensorflow:The parameters `output_attentions`, `output_hidden_states` and `use_cache` cannot be updated when calling a model.They have to be set to True/False in the config object (i.e.: `config=XConfig.from_pretrained('name', output_attentions=True)`).\n"
          ],
          "name": "stderr"
        },
        {
          "output_type": "stream",
          "text": [
            "WARNING:tensorflow:The parameter `return_dict` cannot be set in graph mode and will always be set to `True`.\n"
          ],
          "name": "stdout"
        },
        {
          "output_type": "stream",
          "text": [
            "WARNING:tensorflow:The parameter `return_dict` cannot be set in graph mode and will always be set to `True`.\n"
          ],
          "name": "stderr"
        },
        {
          "output_type": "stream",
          "text": [
            "WARNING:tensorflow:The parameters `output_attentions`, `output_hidden_states` and `use_cache` cannot be updated when calling a model.They have to be set to True/False in the config object (i.e.: `config=XConfig.from_pretrained('name', output_attentions=True)`).\n"
          ],
          "name": "stdout"
        },
        {
          "output_type": "stream",
          "text": [
            "WARNING:tensorflow:The parameters `output_attentions`, `output_hidden_states` and `use_cache` cannot be updated when calling a model.They have to be set to True/False in the config object (i.e.: `config=XConfig.from_pretrained('name', output_attentions=True)`).\n"
          ],
          "name": "stderr"
        },
        {
          "output_type": "stream",
          "text": [
            "WARNING:tensorflow:The parameter `return_dict` cannot be set in graph mode and will always be set to `True`.\n"
          ],
          "name": "stdout"
        },
        {
          "output_type": "stream",
          "text": [
            "WARNING:tensorflow:The parameter `return_dict` cannot be set in graph mode and will always be set to `True`.\n"
          ],
          "name": "stderr"
        },
        {
          "output_type": "stream",
          "text": [
            "Let us check the shape of the critic BERT layer output: KerasTensor(type_spec=TensorSpec(shape=(None, 512, 768), dtype=tf.float32, name=None), name='tf_bert_model_1/bert/encoder/layer_._11/output/LayerNorm/batchnorm/add_1:0', description=\"created by layer 'tf_bert_model_1'\")\n",
            "Let us check the shape of the user BERT layer output: KerasTensor(type_spec=TensorSpec(shape=(None, 512, 768), dtype=tf.float32, name=None), name='tf_bert_model_1/bert/encoder/layer_._11/output/LayerNorm/batchnorm/add_1:0', description=\"created by layer 'tf_bert_model_1'\")\n"
          ],
          "name": "stdout"
        }
      ]
    },
    {
      "cell_type": "code",
      "metadata": {
        "colab": {
          "base_uri": "https://localhost:8080/"
        },
        "id": "BtLfJw7Mkhyc",
        "outputId": "69f2529a-c8aa-489a-baf8-38efddbfc898"
      },
      "source": [
        "cnn_bert_history = cnn_bert_model.fit(\n",
        "    [X_train[0], X_train[1],X_train[2],X_train[3]],\n",
        "    y_train,\n",
        "    epochs=5,\n",
        "    batch_size=32\n",
        ")\n"
      ],
      "id": "BtLfJw7Mkhyc",
      "execution_count": 30,
      "outputs": [
        {
          "output_type": "stream",
          "text": [
            "Epoch 1/5\n",
            "WARNING:tensorflow:The parameters `output_attentions`, `output_hidden_states` and `use_cache` cannot be updated when calling a model.They have to be set to True/False in the config object (i.e.: `config=XConfig.from_pretrained('name', output_attentions=True)`).\n"
          ],
          "name": "stdout"
        },
        {
          "output_type": "stream",
          "text": [
            "WARNING:tensorflow:The parameters `output_attentions`, `output_hidden_states` and `use_cache` cannot be updated when calling a model.They have to be set to True/False in the config object (i.e.: `config=XConfig.from_pretrained('name', output_attentions=True)`).\n"
          ],
          "name": "stderr"
        },
        {
          "output_type": "stream",
          "text": [
            "WARNING:tensorflow:The parameter `return_dict` cannot be set in graph mode and will always be set to `True`.\n"
          ],
          "name": "stdout"
        },
        {
          "output_type": "stream",
          "text": [
            "WARNING:tensorflow:The parameter `return_dict` cannot be set in graph mode and will always be set to `True`.\n"
          ],
          "name": "stderr"
        },
        {
          "output_type": "stream",
          "text": [
            "WARNING:tensorflow:The parameters `output_attentions`, `output_hidden_states` and `use_cache` cannot be updated when calling a model.They have to be set to True/False in the config object (i.e.: `config=XConfig.from_pretrained('name', output_attentions=True)`).\n"
          ],
          "name": "stdout"
        },
        {
          "output_type": "stream",
          "text": [
            "WARNING:tensorflow:The parameters `output_attentions`, `output_hidden_states` and `use_cache` cannot be updated when calling a model.They have to be set to True/False in the config object (i.e.: `config=XConfig.from_pretrained('name', output_attentions=True)`).\n"
          ],
          "name": "stderr"
        },
        {
          "output_type": "stream",
          "text": [
            "WARNING:tensorflow:The parameter `return_dict` cannot be set in graph mode and will always be set to `True`.\n"
          ],
          "name": "stdout"
        },
        {
          "output_type": "stream",
          "text": [
            "WARNING:tensorflow:The parameter `return_dict` cannot be set in graph mode and will always be set to `True`.\n"
          ],
          "name": "stderr"
        },
        {
          "output_type": "stream",
          "text": [
            "WARNING:tensorflow:Gradients do not exist for variables ['tf_bert_model_1/bert/pooler/dense/kernel:0', 'tf_bert_model_1/bert/pooler/dense/bias:0'] when minimizing the loss.\n"
          ],
          "name": "stdout"
        },
        {
          "output_type": "stream",
          "text": [
            "WARNING:tensorflow:Gradients do not exist for variables ['tf_bert_model_1/bert/pooler/dense/kernel:0', 'tf_bert_model_1/bert/pooler/dense/bias:0'] when minimizing the loss.\n"
          ],
          "name": "stderr"
        },
        {
          "output_type": "stream",
          "text": [
            "WARNING:tensorflow:The parameters `output_attentions`, `output_hidden_states` and `use_cache` cannot be updated when calling a model.They have to be set to True/False in the config object (i.e.: `config=XConfig.from_pretrained('name', output_attentions=True)`).\n"
          ],
          "name": "stdout"
        },
        {
          "output_type": "stream",
          "text": [
            "WARNING:tensorflow:The parameters `output_attentions`, `output_hidden_states` and `use_cache` cannot be updated when calling a model.They have to be set to True/False in the config object (i.e.: `config=XConfig.from_pretrained('name', output_attentions=True)`).\n"
          ],
          "name": "stderr"
        },
        {
          "output_type": "stream",
          "text": [
            "WARNING:tensorflow:The parameter `return_dict` cannot be set in graph mode and will always be set to `True`.\n"
          ],
          "name": "stdout"
        },
        {
          "output_type": "stream",
          "text": [
            "WARNING:tensorflow:The parameter `return_dict` cannot be set in graph mode and will always be set to `True`.\n"
          ],
          "name": "stderr"
        },
        {
          "output_type": "stream",
          "text": [
            "WARNING:tensorflow:The parameters `output_attentions`, `output_hidden_states` and `use_cache` cannot be updated when calling a model.They have to be set to True/False in the config object (i.e.: `config=XConfig.from_pretrained('name', output_attentions=True)`).\n"
          ],
          "name": "stdout"
        },
        {
          "output_type": "stream",
          "text": [
            "WARNING:tensorflow:The parameters `output_attentions`, `output_hidden_states` and `use_cache` cannot be updated when calling a model.They have to be set to True/False in the config object (i.e.: `config=XConfig.from_pretrained('name', output_attentions=True)`).\n"
          ],
          "name": "stderr"
        },
        {
          "output_type": "stream",
          "text": [
            "WARNING:tensorflow:The parameter `return_dict` cannot be set in graph mode and will always be set to `True`.\n"
          ],
          "name": "stdout"
        },
        {
          "output_type": "stream",
          "text": [
            "WARNING:tensorflow:The parameter `return_dict` cannot be set in graph mode and will always be set to `True`.\n"
          ],
          "name": "stderr"
        },
        {
          "output_type": "stream",
          "text": [
            "WARNING:tensorflow:Gradients do not exist for variables ['tf_bert_model_1/bert/pooler/dense/kernel:0', 'tf_bert_model_1/bert/pooler/dense/bias:0'] when minimizing the loss.\n"
          ],
          "name": "stdout"
        },
        {
          "output_type": "stream",
          "text": [
            "WARNING:tensorflow:Gradients do not exist for variables ['tf_bert_model_1/bert/pooler/dense/kernel:0', 'tf_bert_model_1/bert/pooler/dense/bias:0'] when minimizing the loss.\n"
          ],
          "name": "stderr"
        },
        {
          "output_type": "stream",
          "text": [
            "329/329 [==============================] - 267s 447ms/step - loss: 0.6765 - accuracy: 0.6008\n",
            "Epoch 2/5\n",
            "329/329 [==============================] - 81s 246ms/step - loss: 0.5674 - accuracy: 0.7054\n",
            "Epoch 3/5\n",
            "329/329 [==============================] - 81s 247ms/step - loss: 0.5002 - accuracy: 0.7570\n",
            "Epoch 4/5\n",
            "329/329 [==============================] - 81s 247ms/step - loss: 0.3924 - accuracy: 0.8281\n",
            "Epoch 5/5\n",
            "329/329 [==============================] - 81s 247ms/step - loss: 0.2364 - accuracy: 0.9083\n"
          ],
          "name": "stdout"
        }
      ]
    },
    {
      "cell_type": "code",
      "metadata": {
        "colab": {
          "base_uri": "https://localhost:8080/",
          "height": 446
        },
        "id": "GDDJHtEgIz0n",
        "outputId": "895a6b09-eb3c-4555-b461-26621eb45e94"
      },
      "source": [
        "create_confusion_matrix(cnn_bert_model, \"BERT CNN\")"
      ],
      "id": "GDDJHtEgIz0n",
      "execution_count": 31,
      "outputs": [
        {
          "output_type": "stream",
          "text": [
            "WARNING:tensorflow:The parameters `output_attentions`, `output_hidden_states` and `use_cache` cannot be updated when calling a model.They have to be set to True/False in the config object (i.e.: `config=XConfig.from_pretrained('name', output_attentions=True)`).\n"
          ],
          "name": "stdout"
        },
        {
          "output_type": "stream",
          "text": [
            "WARNING:tensorflow:The parameters `output_attentions`, `output_hidden_states` and `use_cache` cannot be updated when calling a model.They have to be set to True/False in the config object (i.e.: `config=XConfig.from_pretrained('name', output_attentions=True)`).\n"
          ],
          "name": "stderr"
        },
        {
          "output_type": "stream",
          "text": [
            "WARNING:tensorflow:The parameter `return_dict` cannot be set in graph mode and will always be set to `True`.\n"
          ],
          "name": "stdout"
        },
        {
          "output_type": "stream",
          "text": [
            "WARNING:tensorflow:The parameter `return_dict` cannot be set in graph mode and will always be set to `True`.\n"
          ],
          "name": "stderr"
        },
        {
          "output_type": "stream",
          "text": [
            "WARNING:tensorflow:The parameters `output_attentions`, `output_hidden_states` and `use_cache` cannot be updated when calling a model.They have to be set to True/False in the config object (i.e.: `config=XConfig.from_pretrained('name', output_attentions=True)`).\n"
          ],
          "name": "stdout"
        },
        {
          "output_type": "stream",
          "text": [
            "WARNING:tensorflow:The parameters `output_attentions`, `output_hidden_states` and `use_cache` cannot be updated when calling a model.They have to be set to True/False in the config object (i.e.: `config=XConfig.from_pretrained('name', output_attentions=True)`).\n"
          ],
          "name": "stderr"
        },
        {
          "output_type": "stream",
          "text": [
            "WARNING:tensorflow:The parameter `return_dict` cannot be set in graph mode and will always be set to `True`.\n"
          ],
          "name": "stdout"
        },
        {
          "output_type": "stream",
          "text": [
            "WARNING:tensorflow:The parameter `return_dict` cannot be set in graph mode and will always be set to `True`.\n"
          ],
          "name": "stderr"
        },
        {
          "output_type": "display_data",
          "data": {
            "image/png": "[encoded data removed]",
            "text/plain": [
              "<Figure size 432x288 with 2 Axes>"
            ]
          },
          "metadata": {
            "tags": [],
            "needs_background": "light"
          }
        }
      ]
    },
    {
      "cell_type": "code",
      "metadata": {
        "colab": {
          "base_uri": "https://localhost:8080/"
        },
        "id": "LtlCZBEPjRXu",
        "outputId": "cdceef4c-bdb9-455d-df1d-2bec25d61eab"
      },
      "source": [
        "results = cnn_bert_model.evaluate([X_test[0],X_test[1],X_test[2],X_test[3]], y_test)"
      ],
      "id": "LtlCZBEPjRXu",
      "execution_count": 33,
      "outputs": [
        {
          "output_type": "stream",
          "text": [
            "138/138 [==============================] - 12s 85ms/step - loss: 0.7707 - accuracy: 0.6906\n"
          ],
          "name": "stdout"
        }
      ]
    },
    {
      "cell_type": "code",
      "metadata": {
        "id": "KTp6sGZxjRQv"
      },
      "source": [
        "def create_distilbert_model_cnn(max_length):\n",
        "    critic_Sentence_ids = tf.keras.layers.Input(shape=(max_length,), dtype='int32', name=\"critic_input_ids\")\n",
        "    critic_Masks = tf.keras.layers.Input(shape=(max_length,), dtype='int32', name=\"critic_input_masks\")\n",
        "    \n",
        "    \n",
        "    critic_bert_inputs = [critic_Sentence_ids,critic_Masks]\n",
        "\n",
        "    user_Sentence_ids = tf.keras.layers.Input(shape=(max_length,), dtype='int32', name=\"user_input_ids\")\n",
        "    user_Masks = tf.keras.layers.Input(shape=(max_length,), dtype='int32', name=\"user_input_masks\")\n",
        "    \n",
        "    \n",
        "    user_bert_inputs = [user_Sentence_ids,user_Masks]\n",
        "\n",
        "    \n",
        "    \n",
        "  \n",
        "    kernel_size=3\n",
        "    \n",
        "    \n",
        "    config = DistilBertConfig(num_labels=2)\n",
        "    config.output_hidden_states = False\n",
        "    bert=TFDistilBertModel.from_pretrained('distilbert-base-uncased', config = config) \n",
        "\n",
        "    critic_bert_sequence = bert(critic_bert_inputs)[0]\n",
        "    user_bert_sequence = bert(user_bert_inputs)[0]\n",
        "    print('Let us check the shape of the critic BERT layer output:', critic_bert_sequence)\n",
        "    print('Let us check the shape of the user BERT layer output:', user_bert_sequence)\n",
        "    critic_conv = Convolution1D(128,kernel_size,kernel_initializer='he_normal',activation=\"relu\")(critic_bert_sequence)\n",
        "    user_conv = Convolution1D(128,kernel_size,kernel_initializer='he_normal',activation=\"relu\")(user_bert_sequence)\n",
        "\n",
        "    critic_pooled = tf.keras.layers.MaxPooling1D(5)(critic_conv)  \n",
        "    user_pooled = tf.keras.layers.MaxPooling1D(5)(user_conv)  \n",
        "    combined = concatenate([critic_conv,user_conv])\n",
        "    \n",
        "    X = tf.keras.layers.GlobalMaxPool1D()(combined)\n",
        "    X = tf.keras.layers.Dense(50, activation='relu')(X)\n",
        "    X = tf.keras.layers.Dropout(0.2)(X)\n",
        "    y = tf.keras.layers.Dense(1, activation='sigmoid', name='outputs')(X) \n",
        "    model = tf.keras.Model(inputs=[critic_Sentence_ids,user_Sentence_ids,critic_Masks,user_Masks], outputs=y)\n",
        "    model.summary()\n",
        "    return model"
      ],
      "id": "KTp6sGZxjRQv",
      "execution_count": 17,
      "outputs": []
    },
    {
      "cell_type": "code",
      "metadata": {
        "colab": {
          "base_uri": "https://localhost:8080/"
        },
        "id": "x6DVaY2FjRH4",
        "outputId": "2f76f885-ef18-4746-960d-8c76badb2e10"
      },
      "source": [
        "with strategy.scope():\n",
        "  config = DistilBertConfig(num_labels=2)\n",
        "  config.output_hidden_states = False\n",
        "  cnn_distilbert_model=create_distilbert_model_cnn(MAX_LENGTH)\n",
        "  cnn_distilbert_model.compile(optimizer=tf.keras.optimizers.Adam(1e-6),loss=tf.keras.losses.BinaryCrossentropy(),metrics=[tf.keras.metrics.BinaryAccuracy('accuracy')])"
      ],
      "id": "x6DVaY2FjRH4",
      "execution_count": 18,
      "outputs": [
        {
          "output_type": "stream",
          "text": [
            "Some layers from the model checkpoint at distilbert-base-uncased were not used when initializing TFDistilBertModel: ['vocab_transform', 'vocab_projector', 'activation_13', 'vocab_layer_norm']\n",
            "- This IS expected if you are initializing TFDistilBertModel from the checkpoint of a model trained on another task or with another architecture (e.g. initializing a BertForSequenceClassification model from a BertForPreTraining model).\n",
            "- This IS NOT expected if you are initializing TFDistilBertModel from the checkpoint of a model that you expect to be exactly identical (initializing a BertForSequenceClassification model from a BertForSequenceClassification model).\n",
            "All the layers of TFDistilBertModel were initialized from the model checkpoint at distilbert-base-uncased.\n",
            "If your task is similar to the task the model of the checkpoint was trained on, you can already use TFDistilBertModel for predictions without further training.\n"
          ],
          "name": "stderr"
        },
        {
          "output_type": "stream",
          "text": [
            "WARNING:tensorflow:The parameters `output_attentions`, `output_hidden_states` and `use_cache` cannot be updated when calling a model.They have to be set to True/False in the config object (i.e.: `config=XConfig.from_pretrained('name', output_attentions=True)`).\n",
            "WARNING:tensorflow:AutoGraph could not transform <bound method Socket.send of <zmq.sugar.socket.Socket object at 0x7f7c7f9c0d70>> and will run it as-is.\n",
            "Please report this to the TensorFlow team. When filing the bug, set the verbosity to 10 (on Linux, `export AUTOGRAPH_VERBOSITY=10`) and attach the full output.\n",
            "Cause: module, class, method, function, traceback, frame, or code object was expected, got cython_function_or_method\n",
            "To silence this warning, decorate the function with @tf.autograph.experimental.do_not_convert\n"
          ],
          "name": "stdout"
        },
        {
          "output_type": "stream",
          "text": [
            "WARNING:tensorflow:AutoGraph could not transform <bound method Socket.send of <zmq.sugar.socket.Socket object at 0x7f7c7f9c0d70>> and will run it as-is.\n",
            "Please report this to the TensorFlow team. When filing the bug, set the verbosity to 10 (on Linux, `export AUTOGRAPH_VERBOSITY=10`) and attach the full output.\n",
            "Cause: module, class, method, function, traceback, frame, or code object was expected, got cython_function_or_method\n",
            "To silence this warning, decorate the function with @tf.autograph.experimental.do_not_convert\n"
          ],
          "name": "stderr"
        },
        {
          "output_type": "stream",
          "text": [
            "WARNING: AutoGraph could not transform <bound method Socket.send of <zmq.sugar.socket.Socket object at 0x7f7c7f9c0d70>> and will run it as-is.\n",
            "Please report this to the TensorFlow team. When filing the bug, set the verbosity to 10 (on Linux, `export AUTOGRAPH_VERBOSITY=10`) and attach the full output.\n",
            "Cause: module, class, method, function, traceback, frame, or code object was expected, got cython_function_or_method\n",
            "To silence this warning, decorate the function with @tf.autograph.experimental.do_not_convert\n",
            "WARNING:tensorflow:AutoGraph could not transform <function wrap at 0x7f7c9b26ac20> and will run it as-is.\n",
            "Cause: while/else statement not yet supported\n",
            "To silence this warning, decorate the function with @tf.autograph.experimental.do_not_convert\n"
          ],
          "name": "stdout"
        },
        {
          "output_type": "stream",
          "text": [
            "WARNING:tensorflow:The parameters `output_attentions`, `output_hidden_states` and `use_cache` cannot be updated when calling a model.They have to be set to True/False in the config object (i.e.: `config=XConfig.from_pretrained('name', output_attentions=True)`).\n",
            "WARNING:tensorflow:AutoGraph could not transform <function wrap at 0x7f7c9b26ac20> and will run it as-is.\n",
            "Cause: while/else statement not yet supported\n",
            "To silence this warning, decorate the function with @tf.autograph.experimental.do_not_convert\n"
          ],
          "name": "stderr"
        },
        {
          "output_type": "stream",
          "text": [
            "WARNING:tensorflow:The parameter `return_dict` cannot be set in graph mode and will always be set to `True`.\n",
            "WARNING: AutoGraph could not transform <function wrap at 0x7f7c9b26ac20> and will run it as-is.\n",
            "Cause: while/else statement not yet supported\n",
            "To silence this warning, decorate the function with @tf.autograph.experimental.do_not_convert\n"
          ],
          "name": "stdout"
        },
        {
          "output_type": "stream",
          "text": [
            "WARNING:tensorflow:The parameter `return_dict` cannot be set in graph mode and will always be set to `True`.\n"
          ],
          "name": "stderr"
        },
        {
          "output_type": "stream",
          "text": [
            "WARNING:tensorflow:The parameters `output_attentions`, `output_hidden_states` and `use_cache` cannot be updated when calling a model.They have to be set to True/False in the config object (i.e.: `config=XConfig.from_pretrained('name', output_attentions=True)`).\n"
          ],
          "name": "stdout"
        },
        {
          "output_type": "stream",
          "text": [
            "WARNING:tensorflow:The parameters `output_attentions`, `output_hidden_states` and `use_cache` cannot be updated when calling a model.They have to be set to True/False in the config object (i.e.: `config=XConfig.from_pretrained('name', output_attentions=True)`).\n"
          ],
          "name": "stderr"
        },
        {
          "output_type": "stream",
          "text": [
            "WARNING:tensorflow:The parameter `return_dict` cannot be set in graph mode and will always be set to `True`.\n"
          ],
          "name": "stdout"
        },
        {
          "output_type": "stream",
          "text": [
            "WARNING:tensorflow:The parameter `return_dict` cannot be set in graph mode and will always be set to `True`.\n"
          ],
          "name": "stderr"
        },
        {
          "output_type": "stream",
          "text": [
            "Let us check the shape of the critic BERT layer output: KerasTensor(type_spec=TensorSpec(shape=(None, 512, 768), dtype=tf.float32, name=None), name='tf_distil_bert_model/distilbert/transformer/layer_._5/output_layer_norm/batchnorm/add_1:0', description=\"created by layer 'tf_distil_bert_model'\")\n",
            "Let us check the shape of the user BERT layer output: KerasTensor(type_spec=TensorSpec(shape=(None, 512, 768), dtype=tf.float32, name=None), name='tf_distil_bert_model/distilbert/transformer/layer_._5/output_layer_norm/batchnorm/add_1:0', description=\"created by layer 'tf_distil_bert_model'\")\n",
            "Model: \"model\"\n",
            "__________________________________________________________________________________________________\n",
            "Layer (type)                    Output Shape         Param #     Connected to                     \n",
            "==================================================================================================\n",
            "critic_input_ids (InputLayer)   [(None, 512)]        0                                            \n",
            "__________________________________________________________________________________________________\n",
            "critic_input_masks (InputLayer) [(None, 512)]        0                                            \n",
            "__________________________________________________________________________________________________\n",
            "user_input_ids (InputLayer)     [(None, 512)]        0                                            \n",
            "__________________________________________________________________________________________________\n",
            "user_input_masks (InputLayer)   [(None, 512)]        0                                            \n",
            "__________________________________________________________________________________________________\n",
            "tf_distil_bert_model (TFDistilB TFBaseModelOutput(la 66362880    critic_input_ids[0][0]           \n",
            "                                                                 critic_input_masks[0][0]         \n",
            "                                                                 user_input_ids[0][0]             \n",
            "                                                                 user_input_masks[0][0]           \n",
            "__________________________________________________________________________________________________\n",
            "conv1d (Conv1D)                 (None, 510, 128)     295040      tf_distil_bert_model[0][0]       \n",
            "__________________________________________________________________________________________________\n",
            "conv1d_1 (Conv1D)               (None, 510, 128)     295040      tf_distil_bert_model[1][0]       \n",
            "__________________________________________________________________________________________________\n",
            "concatenate (Concatenate)       (None, 510, 256)     0           conv1d[0][0]                     \n",
            "                                                                 conv1d_1[0][0]                   \n",
            "__________________________________________________________________________________________________\n",
            "global_max_pooling1d (GlobalMax (None, 256)          0           concatenate[0][0]                \n",
            "__________________________________________________________________________________________________\n",
            "dense (Dense)                   (None, 50)           12850       global_max_pooling1d[0][0]       \n",
            "__________________________________________________________________________________________________\n",
            "dropout_19 (Dropout)            (None, 50)           0           dense[0][0]                      \n",
            "__________________________________________________________________________________________________\n",
            "outputs (Dense)                 (None, 1)            51          dropout_19[0][0]                 \n",
            "==================================================================================================\n",
            "Total params: 66,965,861\n",
            "Trainable params: 66,965,861\n",
            "Non-trainable params: 0\n",
            "__________________________________________________________________________________________________\n"
          ],
          "name": "stdout"
        }
      ]
    },
    {
      "cell_type": "code",
      "metadata": {
        "colab": {
          "base_uri": "https://localhost:8080/"
        },
        "id": "based-republic",
        "outputId": "8577c674-e859-4661-8b7e-c44dff83d100"
      },
      "source": [
        "cnn_distilbert_history = cnn_distilbert_model.fit(\n",
        "    [X_train[0], X_train[1],X_train[2],X_train[3]],\n",
        "    y_train,\n",
        "    epochs=5,\n",
        "    batch_size=64\n",
        ")"
      ],
      "id": "based-republic",
      "execution_count": 19,
      "outputs": [
        {
          "output_type": "stream",
          "text": [
            "Epoch 1/5\n",
            "WARNING:tensorflow:The parameters `output_attentions`, `output_hidden_states` and `use_cache` cannot be updated when calling a model.They have to be set to True/False in the config object (i.e.: `config=XConfig.from_pretrained('name', output_attentions=True)`).\n"
          ],
          "name": "stdout"
        },
        {
          "output_type": "stream",
          "text": [
            "WARNING:tensorflow:The parameters `output_attentions`, `output_hidden_states` and `use_cache` cannot be updated when calling a model.They have to be set to True/False in the config object (i.e.: `config=XConfig.from_pretrained('name', output_attentions=True)`).\n"
          ],
          "name": "stderr"
        },
        {
          "output_type": "stream",
          "text": [
            "WARNING:tensorflow:The parameter `return_dict` cannot be set in graph mode and will always be set to `True`.\n"
          ],
          "name": "stdout"
        },
        {
          "output_type": "stream",
          "text": [
            "WARNING:tensorflow:The parameter `return_dict` cannot be set in graph mode and will always be set to `True`.\n"
          ],
          "name": "stderr"
        },
        {
          "output_type": "stream",
          "text": [
            "WARNING:tensorflow:The parameters `output_attentions`, `output_hidden_states` and `use_cache` cannot be updated when calling a model.They have to be set to True/False in the config object (i.e.: `config=XConfig.from_pretrained('name', output_attentions=True)`).\n"
          ],
          "name": "stdout"
        },
        {
          "output_type": "stream",
          "text": [
            "WARNING:tensorflow:The parameters `output_attentions`, `output_hidden_states` and `use_cache` cannot be updated when calling a model.They have to be set to True/False in the config object (i.e.: `config=XConfig.from_pretrained('name', output_attentions=True)`).\n"
          ],
          "name": "stderr"
        },
        {
          "output_type": "stream",
          "text": [
            "WARNING:tensorflow:The parameter `return_dict` cannot be set in graph mode and will always be set to `True`.\n"
          ],
          "name": "stdout"
        },
        {
          "output_type": "stream",
          "text": [
            "WARNING:tensorflow:The parameter `return_dict` cannot be set in graph mode and will always be set to `True`.\n"
          ],
          "name": "stderr"
        },
        {
          "output_type": "stream",
          "text": [
            "WARNING:tensorflow:The parameters `output_attentions`, `output_hidden_states` and `use_cache` cannot be updated when calling a model.They have to be set to True/False in the config object (i.e.: `config=XConfig.from_pretrained('name', output_attentions=True)`).\n"
          ],
          "name": "stdout"
        },
        {
          "output_type": "stream",
          "text": [
            "WARNING:tensorflow:The parameters `output_attentions`, `output_hidden_states` and `use_cache` cannot be updated when calling a model.They have to be set to True/False in the config object (i.e.: `config=XConfig.from_pretrained('name', output_attentions=True)`).\n"
          ],
          "name": "stderr"
        },
        {
          "output_type": "stream",
          "text": [
            "WARNING:tensorflow:The parameter `return_dict` cannot be set in graph mode and will always be set to `True`.\n"
          ],
          "name": "stdout"
        },
        {
          "output_type": "stream",
          "text": [
            "WARNING:tensorflow:The parameter `return_dict` cannot be set in graph mode and will always be set to `True`.\n"
          ],
          "name": "stderr"
        },
        {
          "output_type": "stream",
          "text": [
            "WARNING:tensorflow:The parameters `output_attentions`, `output_hidden_states` and `use_cache` cannot be updated when calling a model.They have to be set to True/False in the config object (i.e.: `config=XConfig.from_pretrained('name', output_attentions=True)`).\n"
          ],
          "name": "stdout"
        },
        {
          "output_type": "stream",
          "text": [
            "WARNING:tensorflow:The parameters `output_attentions`, `output_hidden_states` and `use_cache` cannot be updated when calling a model.They have to be set to True/False in the config object (i.e.: `config=XConfig.from_pretrained('name', output_attentions=True)`).\n"
          ],
          "name": "stderr"
        },
        {
          "output_type": "stream",
          "text": [
            "WARNING:tensorflow:The parameter `return_dict` cannot be set in graph mode and will always be set to `True`.\n"
          ],
          "name": "stdout"
        },
        {
          "output_type": "stream",
          "text": [
            "WARNING:tensorflow:The parameter `return_dict` cannot be set in graph mode and will always be set to `True`.\n"
          ],
          "name": "stderr"
        },
        {
          "output_type": "stream",
          "text": [
            "165/165 [==============================] - 142s 449ms/step - loss: 0.7648 - accuracy: 0.5294\n",
            "Epoch 2/5\n",
            "165/165 [==============================] - 37s 226ms/step - loss: 0.6887 - accuracy: 0.5575\n",
            "Epoch 3/5\n",
            "165/165 [==============================] - 37s 227ms/step - loss: 0.6762 - accuracy: 0.5834\n",
            "Epoch 4/5\n",
            "165/165 [==============================] - 40s 241ms/step - loss: 0.6717 - accuracy: 0.5867\n",
            "Epoch 5/5\n",
            "165/165 [==============================] - 37s 226ms/step - loss: 0.6707 - accuracy: 0.5859\n"
          ],
          "name": "stdout"
        }
      ]
    },
    {
      "cell_type": "code",
      "metadata": {
        "id": "KTV5dLjlvXX-"
      },
      "source": [
        "results = cnn_distilbert_model.evaluate([X_test[0],X_test[1],X_test[2],X_test[3]], y_test)"
      ],
      "id": "KTV5dLjlvXX-",
      "execution_count": null,
      "outputs": []
    },
    {
      "cell_type": "code",
      "metadata": {
        "colab": {
          "base_uri": "https://localhost:8080/",
          "height": 446
        },
        "id": "CNZIkPDLM870",
        "outputId": "c86838d7-c188-4735-94b4-e75dc1762ff8"
      },
      "source": [
        "create_confusion_matrix(cnn_distilbert_model,\"DistilBERT CNN\")"
      ],
      "id": "CNZIkPDLM870",
      "execution_count": 85,
      "outputs": [
        {
          "output_type": "stream",
          "text": [
            "WARNING:tensorflow:The parameters `output_attentions`, `output_hidden_states` and `use_cache` cannot be updated when calling a model.They have to be set to True/False in the config object (i.e.: `config=XConfig.from_pretrained('name', output_attentions=True)`).\n"
          ],
          "name": "stdout"
        },
        {
          "output_type": "stream",
          "text": [
            "WARNING:tensorflow:The parameters `output_attentions`, `output_hidden_states` and `use_cache` cannot be updated when calling a model.They have to be set to True/False in the config object (i.e.: `config=XConfig.from_pretrained('name', output_attentions=True)`).\n"
          ],
          "name": "stderr"
        },
        {
          "output_type": "stream",
          "text": [
            "WARNING:tensorflow:The parameter `return_dict` cannot be set in graph mode and will always be set to `True`.\n"
          ],
          "name": "stdout"
        },
        {
          "output_type": "stream",
          "text": [
            "WARNING:tensorflow:The parameter `return_dict` cannot be set in graph mode and will always be set to `True`.\n"
          ],
          "name": "stderr"
        },
        {
          "output_type": "stream",
          "text": [
            "WARNING:tensorflow:The parameters `output_attentions`, `output_hidden_states` and `use_cache` cannot be updated when calling a model.They have to be set to True/False in the config object (i.e.: `config=XConfig.from_pretrained('name', output_attentions=True)`).\n"
          ],
          "name": "stdout"
        },
        {
          "output_type": "stream",
          "text": [
            "WARNING:tensorflow:The parameters `output_attentions`, `output_hidden_states` and `use_cache` cannot be updated when calling a model.They have to be set to True/False in the config object (i.e.: `config=XConfig.from_pretrained('name', output_attentions=True)`).\n"
          ],
          "name": "stderr"
        },
        {
          "output_type": "stream",
          "text": [
            "WARNING:tensorflow:The parameter `return_dict` cannot be set in graph mode and will always be set to `True`.\n"
          ],
          "name": "stdout"
        },
        {
          "output_type": "stream",
          "text": [
            "WARNING:tensorflow:The parameter `return_dict` cannot be set in graph mode and will always be set to `True`.\n"
          ],
          "name": "stderr"
        },
        {
          "output_type": "display_data",
          "data": {
            "image/png": "[encoded data removed]",
            "text/plain": [
              "<Figure size 432x288 with 2 Axes>"
            ]
          },
          "metadata": {
            "tags": [],
            "needs_background": "light"
          }
        }
      ]
    }
  ]
}
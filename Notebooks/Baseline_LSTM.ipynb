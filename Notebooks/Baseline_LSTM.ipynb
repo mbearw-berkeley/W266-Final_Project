{
  "nbformat": 4,
  "nbformat_minor": 0,
  "metadata": {
    "kernelspec": {
      "display_name": "Python 3",
      "language": "python",
      "name": "python3"
    },
    "language_info": {
      "codemirror_mode": {
        "name": "ipython",
        "version": 3
      },
      "file_extension": ".py",
      "mimetype": "text/x-python",
      "name": "python",
      "nbconvert_exporter": "python",
      "pygments_lexer": "ipython3",
      "version": "3.7.10"
    },
    "colab": {
      "name": "Baseline.ipynb",
      "provenance": []
    },
    "accelerator": "TPU"
  },
  "cells": [
    {
      "cell_type": "markdown",
      "metadata": {
        "id": "sjzJSCV2TBGC"
      },
      "source": [
        "# W266 Final Project\n",
        "This notebook contains some EDA and creates the baseline LSTM classifier"
      ]
    },
    {
      "cell_type": "code",
      "metadata": {
        "id": "_kliWahSRjLT"
      },
      "source": [
        "import numpy as np\n",
        "import pandas as pd\n",
        "import tensorflow as tf\n",
        "import matplotlib.pyplot as plt\n",
        "import seaborn as sns\n",
        "import nltk\n",
        "from sklearn.metrics import confusion_matrix\n",
        "from sklearn.model_selection import train_test_split\n",
        "import ast\n",
        "import os\n",
        "from tensorflow.keras.layers.experimental.preprocessing import TextVectorization\n",
        "from tensorflow.keras.models import Model\n",
        "from tensorflow.keras.layers import Dense, Dropout, Flatten, Input, MaxPooling1D, Convolution1D, Embedding,GlobalMaxPooling1D, concatenate,LSTM,Reshape"
      ],
      "execution_count": 1,
      "outputs": []
    },
    {
      "cell_type": "code",
      "metadata": {
        "id": "uorLr4nMR1xf"
      },
      "source": [
        "#If you want to use TPU\n",
        "\n",
        "# resolver = tf.distribute.cluster_resolver.TPUClusterResolver(tpu='grpc://' + os.environ['COLAB_TPU_ADDR'])\n",
        "\n",
        "# tf.config.experimental_connect_to_cluster(resolver)\n",
        "# tf.tpu.experimental.initialize_tpu_system(resolver)\n",
        "# print(\"All devices: \", tf.config.list_logical_devices('TPU'))\n",
        "# strategy = tf.distribute.experimental.TPUStrategy(resolver)"
      ],
      "execution_count": 4,
      "outputs": []
    },
    {
      "cell_type": "code",
      "metadata": {
        "colab": {
          "base_uri": "https://localhost:8080/"
        },
        "id": "3Sfk1_gLSD__",
        "outputId": "833bbe1f-d774-450b-a3e7-48e079ac442b"
      },
      "source": [
        "from google.colab import drive\n",
        "drive.mount('/content/drive')"
      ],
      "execution_count": 5,
      "outputs": [
        {
          "output_type": "stream",
          "text": [
            "Mounted at /content/drive\n"
          ],
          "name": "stdout"
        }
      ]
    },
    {
      "cell_type": "code",
      "metadata": {
        "id": "GexDmKT3SMxq"
      },
      "source": [
        "path = \"/content/drive/MyDrive/w266/cleaned_data.csv\"\n",
        "data = pd.read_csv(path)\n",
        "glove_path = \"/content/drive/MyDrive/w266/glove.6B.100d.txt\""
      ],
      "execution_count": 6,
      "outputs": []
    },
    {
      "cell_type": "code",
      "metadata": {
        "id": "LKShDqe9SRhP"
      },
      "source": [
        "data['critic_reviews'] = data['critic_reviews'].apply(lambda x:np.array(ast.literal_eval(x)))\n",
        "data[\"user_reviews\"] = data[\"user_reviews\"].apply(lambda y:np.array(ast.literal_eval(y)))"
      ],
      "execution_count": 8,
      "outputs": []
    },
    {
      "cell_type": "code",
      "metadata": {
        "scrolled": true,
        "colab": {
          "base_uri": "https://localhost:8080/",
          "height": 405
        },
        "id": "Xzn_wtqyRjLY",
        "outputId": "39172acf-de2d-437a-c8a7-a1075a1df6c7"
      },
      "source": [
        "data.head()"
      ],
      "execution_count": 9,
      "outputs": [
        {
          "output_type": "execute_result",
          "data": {
            "text/html": [
              "<div>\n",
              "<style scoped>\n",
              "    .dataframe tbody tr th:only-of-type {\n",
              "        vertical-align: middle;\n",
              "    }\n",
              "\n",
              "    .dataframe tbody tr th {\n",
              "        vertical-align: top;\n",
              "    }\n",
              "\n",
              "    .dataframe thead th {\n",
              "        text-align: right;\n",
              "    }\n",
              "</style>\n",
              "<table border=\"1\" class=\"dataframe\">\n",
              "  <thead>\n",
              "    <tr style=\"text-align: right;\">\n",
              "      <th></th>\n",
              "      <th>name</th>\n",
              "      <th>date</th>\n",
              "      <th>platform</th>\n",
              "      <th>score</th>\n",
              "      <th>summary</th>\n",
              "      <th>url</th>\n",
              "      <th>userscore</th>\n",
              "      <th>fullurl</th>\n",
              "      <th>developer</th>\n",
              "      <th>genre</th>\n",
              "      <th>user_reviews</th>\n",
              "      <th>critic_reviews</th>\n",
              "    </tr>\n",
              "  </thead>\n",
              "  <tbody>\n",
              "    <tr>\n",
              "      <th>0</th>\n",
              "      <td>Tony Hawk's Pro Skater 2</td>\n",
              "      <td>September 20, 2000</td>\n",
              "      <td>PlayStation</td>\n",
              "      <td>98</td>\n",
              "      <td>As most major publishers' development efforts ...</td>\n",
              "      <td>/game/playstation/tony-hawks-pro-skater-2</td>\n",
              "      <td>7.4</td>\n",
              "      <td>https://www.metacritic.com/game/playstation/to...</td>\n",
              "      <td>Neversoft Entertainment</td>\n",
              "      <td>['Sports', 'Alternative', 'Skateboarding']</td>\n",
              "      <td>[Breath-taking, still replayable to this day. ...</td>\n",
              "      <td>[The best skateboarding game ever and one of t...</td>\n",
              "    </tr>\n",
              "    <tr>\n",
              "      <th>1</th>\n",
              "      <td>Tony Hawk's Pro Skater 2</td>\n",
              "      <td>November 6, 2000</td>\n",
              "      <td>Dreamcast</td>\n",
              "      <td>97</td>\n",
              "      <td>Hawk's back - with new technology, new pros an...</td>\n",
              "      <td>/game/dreamcast/tony-hawks-pro-skater-2</td>\n",
              "      <td>6.1</td>\n",
              "      <td>https://www.metacritic.com/game/dreamcast/tony...</td>\n",
              "      <td>Treyarch</td>\n",
              "      <td>['Sports', 'Alternative', 'Skateboarding']</td>\n",
              "      <td>[Now this game was what I remember being the b...</td>\n",
              "      <td>[There's enough skaters, objectives, levels, a...</td>\n",
              "    </tr>\n",
              "    <tr>\n",
              "      <th>2</th>\n",
              "      <td>Perfect Dark</td>\n",
              "      <td>May 22, 2000</td>\n",
              "      <td>Nintendo 64</td>\n",
              "      <td>97</td>\n",
              "      <td>Step into the Dark... As Carrington Institute'...</td>\n",
              "      <td>/game/nintendo-64/perfect-dark</td>\n",
              "      <td>8.8</td>\n",
              "      <td>https://www.metacritic.com/game/nintendo-64/pe...</td>\n",
              "      <td>Rare Ltd.</td>\n",
              "      <td>['Action', 'Shooter', 'First-Person', 'Sci-Fi']</td>\n",
              "      <td>[I bought Perfect Dark the day it was released...</td>\n",
              "      <td>[It's a stunning achievement by any measure an...</td>\n",
              "    </tr>\n",
              "    <tr>\n",
              "      <th>3</th>\n",
              "      <td>NFL 2K1</td>\n",
              "      <td>September 7, 2000</td>\n",
              "      <td>Dreamcast</td>\n",
              "      <td>97</td>\n",
              "      <td>In the end, NFL 2K1 is a deeper, more refined ...</td>\n",
              "      <td>/game/dreamcast/nfl-2k1</td>\n",
              "      <td>6.4</td>\n",
              "      <td>https://www.metacritic.com/game/dreamcast/nfl-2k1</td>\n",
              "      <td>Visual Concepts</td>\n",
              "      <td>['Sports', 'Traditional', 'Football', 'Sim']</td>\n",
              "      <td>[This game still holds its own after four year...</td>\n",
              "      <td>[Not only is this the first console game that ...</td>\n",
              "    </tr>\n",
              "    <tr>\n",
              "      <th>4</th>\n",
              "      <td>Baldur's Gate II: Shadows of Amn</td>\n",
              "      <td>September 24, 2000</td>\n",
              "      <td>PC</td>\n",
              "      <td>95</td>\n",
              "      <td>An epic continuation of the story that began i...</td>\n",
              "      <td>/game/pc/baldurs-gate-ii-shadows-of-amn</td>\n",
              "      <td>9.1</td>\n",
              "      <td>https://www.metacritic.com/game/pc/baldurs-gat...</td>\n",
              "      <td>BioWare</td>\n",
              "      <td>['Role-Playing', 'PC-style RPG', 'PC-style RPG...</td>\n",
              "      <td>[Quite possibly the best game ever made! A dee...</td>\n",
              "      <td>[It's not just vast, but flooded with quests a...</td>\n",
              "    </tr>\n",
              "  </tbody>\n",
              "</table>\n",
              "</div>"
            ],
            "text/plain": [
              "                               name  ...                                     critic_reviews\n",
              "0          Tony Hawk's Pro Skater 2  ...  [The best skateboarding game ever and one of t...\n",
              "1          Tony Hawk's Pro Skater 2  ...  [There's enough skaters, objectives, levels, a...\n",
              "2                      Perfect Dark  ...  [It's a stunning achievement by any measure an...\n",
              "3                           NFL 2K1  ...  [Not only is this the first console game that ...\n",
              "4  Baldur's Gate II: Shadows of Amn  ...  [It's not just vast, but flooded with quests a...\n",
              "\n",
              "[5 rows x 12 columns]"
            ]
          },
          "metadata": {
            "tags": []
          },
          "execution_count": 9
        }
      ]
    },
    {
      "cell_type": "code",
      "metadata": {
        "colab": {
          "base_uri": "https://localhost:8080/"
        },
        "id": "4lylxO9fRjLY",
        "outputId": "e5ed1e4c-1be8-41d1-db9d-684c39c5de4f"
      },
      "source": [
        "data.isnull().sum()"
      ],
      "execution_count": 10,
      "outputs": [
        {
          "output_type": "execute_result",
          "data": {
            "text/plain": [
              "name                0\n",
              "date                0\n",
              "platform            0\n",
              "score               0\n",
              "summary           112\n",
              "url                 0\n",
              "userscore           0\n",
              "fullurl             0\n",
              "developer           0\n",
              "genre               0\n",
              "user_reviews        0\n",
              "critic_reviews      0\n",
              "dtype: int64"
            ]
          },
          "metadata": {
            "tags": []
          },
          "execution_count": 10
        }
      ]
    },
    {
      "cell_type": "code",
      "metadata": {
        "scrolled": true,
        "colab": {
          "base_uri": "https://localhost:8080/"
        },
        "id": "7JLzL-NjRjLZ",
        "outputId": "7138b0b5-ac46-4d11-e24a-8bc12d12b724"
      },
      "source": [
        "data.shape"
      ],
      "execution_count": 11,
      "outputs": [
        {
          "output_type": "execute_result",
          "data": {
            "text/plain": [
              "(16139, 12)"
            ]
          },
          "metadata": {
            "tags": []
          },
          "execution_count": 11
        }
      ]
    },
    {
      "cell_type": "markdown",
      "metadata": {
        "id": "hD7gUiKRRjLZ"
      },
      "source": [
        "# Label of Interest\n",
        "\n",
        "We're interested in seeing if the critic's reviews can be used to predict the difference in critic and user score. Our constructed label then will be `score` - `userscore`"
      ]
    },
    {
      "cell_type": "code",
      "metadata": {
        "id": "1e_nc_fsccPX"
      },
      "source": [
        "data = data[(data[\"user_reviews\"].map(len) > 0)]"
      ],
      "execution_count": 12,
      "outputs": []
    },
    {
      "cell_type": "code",
      "metadata": {
        "scrolled": true,
        "id": "_fkCOotARjLa"
      },
      "source": [
        "data = data[data[\"userscore\"]!=\"tbd\"]\n",
        "\n",
        "#we can't do anything about games with no userscore"
      ],
      "execution_count": 13,
      "outputs": []
    },
    {
      "cell_type": "code",
      "metadata": {
        "scrolled": true,
        "id": "EIrv7bBtRjLa"
      },
      "source": [
        "data['userscore'] = 10*data[\"userscore\"].astype('float')"
      ],
      "execution_count": 14,
      "outputs": []
    },
    {
      "cell_type": "code",
      "metadata": {
        "scrolled": true,
        "colab": {
          "base_uri": "https://localhost:8080/",
          "height": 405
        },
        "id": "OObtdrCVRjLb",
        "outputId": "19fd84ce-71eb-4e65-9414-fe3bdebc02a8"
      },
      "source": [
        "data.head()"
      ],
      "execution_count": 15,
      "outputs": [
        {
          "output_type": "execute_result",
          "data": {
            "text/html": [
              "<div>\n",
              "<style scoped>\n",
              "    .dataframe tbody tr th:only-of-type {\n",
              "        vertical-align: middle;\n",
              "    }\n",
              "\n",
              "    .dataframe tbody tr th {\n",
              "        vertical-align: top;\n",
              "    }\n",
              "\n",
              "    .dataframe thead th {\n",
              "        text-align: right;\n",
              "    }\n",
              "</style>\n",
              "<table border=\"1\" class=\"dataframe\">\n",
              "  <thead>\n",
              "    <tr style=\"text-align: right;\">\n",
              "      <th></th>\n",
              "      <th>name</th>\n",
              "      <th>date</th>\n",
              "      <th>platform</th>\n",
              "      <th>score</th>\n",
              "      <th>summary</th>\n",
              "      <th>url</th>\n",
              "      <th>userscore</th>\n",
              "      <th>fullurl</th>\n",
              "      <th>developer</th>\n",
              "      <th>genre</th>\n",
              "      <th>user_reviews</th>\n",
              "      <th>critic_reviews</th>\n",
              "    </tr>\n",
              "  </thead>\n",
              "  <tbody>\n",
              "    <tr>\n",
              "      <th>0</th>\n",
              "      <td>Tony Hawk's Pro Skater 2</td>\n",
              "      <td>September 20, 2000</td>\n",
              "      <td>PlayStation</td>\n",
              "      <td>98</td>\n",
              "      <td>As most major publishers' development efforts ...</td>\n",
              "      <td>/game/playstation/tony-hawks-pro-skater-2</td>\n",
              "      <td>74.0</td>\n",
              "      <td>https://www.metacritic.com/game/playstation/to...</td>\n",
              "      <td>Neversoft Entertainment</td>\n",
              "      <td>['Sports', 'Alternative', 'Skateboarding']</td>\n",
              "      <td>[Breath-taking, still replayable to this day. ...</td>\n",
              "      <td>[The best skateboarding game ever and one of t...</td>\n",
              "    </tr>\n",
              "    <tr>\n",
              "      <th>1</th>\n",
              "      <td>Tony Hawk's Pro Skater 2</td>\n",
              "      <td>November 6, 2000</td>\n",
              "      <td>Dreamcast</td>\n",
              "      <td>97</td>\n",
              "      <td>Hawk's back - with new technology, new pros an...</td>\n",
              "      <td>/game/dreamcast/tony-hawks-pro-skater-2</td>\n",
              "      <td>61.0</td>\n",
              "      <td>https://www.metacritic.com/game/dreamcast/tony...</td>\n",
              "      <td>Treyarch</td>\n",
              "      <td>['Sports', 'Alternative', 'Skateboarding']</td>\n",
              "      <td>[Now this game was what I remember being the b...</td>\n",
              "      <td>[There's enough skaters, objectives, levels, a...</td>\n",
              "    </tr>\n",
              "    <tr>\n",
              "      <th>2</th>\n",
              "      <td>Perfect Dark</td>\n",
              "      <td>May 22, 2000</td>\n",
              "      <td>Nintendo 64</td>\n",
              "      <td>97</td>\n",
              "      <td>Step into the Dark... As Carrington Institute'...</td>\n",
              "      <td>/game/nintendo-64/perfect-dark</td>\n",
              "      <td>88.0</td>\n",
              "      <td>https://www.metacritic.com/game/nintendo-64/pe...</td>\n",
              "      <td>Rare Ltd.</td>\n",
              "      <td>['Action', 'Shooter', 'First-Person', 'Sci-Fi']</td>\n",
              "      <td>[I bought Perfect Dark the day it was released...</td>\n",
              "      <td>[It's a stunning achievement by any measure an...</td>\n",
              "    </tr>\n",
              "    <tr>\n",
              "      <th>3</th>\n",
              "      <td>NFL 2K1</td>\n",
              "      <td>September 7, 2000</td>\n",
              "      <td>Dreamcast</td>\n",
              "      <td>97</td>\n",
              "      <td>In the end, NFL 2K1 is a deeper, more refined ...</td>\n",
              "      <td>/game/dreamcast/nfl-2k1</td>\n",
              "      <td>64.0</td>\n",
              "      <td>https://www.metacritic.com/game/dreamcast/nfl-2k1</td>\n",
              "      <td>Visual Concepts</td>\n",
              "      <td>['Sports', 'Traditional', 'Football', 'Sim']</td>\n",
              "      <td>[This game still holds its own after four year...</td>\n",
              "      <td>[Not only is this the first console game that ...</td>\n",
              "    </tr>\n",
              "    <tr>\n",
              "      <th>4</th>\n",
              "      <td>Baldur's Gate II: Shadows of Amn</td>\n",
              "      <td>September 24, 2000</td>\n",
              "      <td>PC</td>\n",
              "      <td>95</td>\n",
              "      <td>An epic continuation of the story that began i...</td>\n",
              "      <td>/game/pc/baldurs-gate-ii-shadows-of-amn</td>\n",
              "      <td>91.0</td>\n",
              "      <td>https://www.metacritic.com/game/pc/baldurs-gat...</td>\n",
              "      <td>BioWare</td>\n",
              "      <td>['Role-Playing', 'PC-style RPG', 'PC-style RPG...</td>\n",
              "      <td>[Quite possibly the best game ever made! A dee...</td>\n",
              "      <td>[It's not just vast, but flooded with quests a...</td>\n",
              "    </tr>\n",
              "  </tbody>\n",
              "</table>\n",
              "</div>"
            ],
            "text/plain": [
              "                               name  ...                                     critic_reviews\n",
              "0          Tony Hawk's Pro Skater 2  ...  [The best skateboarding game ever and one of t...\n",
              "1          Tony Hawk's Pro Skater 2  ...  [There's enough skaters, objectives, levels, a...\n",
              "2                      Perfect Dark  ...  [It's a stunning achievement by any measure an...\n",
              "3                           NFL 2K1  ...  [Not only is this the first console game that ...\n",
              "4  Baldur's Gate II: Shadows of Amn  ...  [It's not just vast, but flooded with quests a...\n",
              "\n",
              "[5 rows x 12 columns]"
            ]
          },
          "metadata": {
            "tags": []
          },
          "execution_count": 15
        }
      ]
    },
    {
      "cell_type": "code",
      "metadata": {
        "scrolled": false,
        "id": "xMp_jfctRjLc"
      },
      "source": [
        "data[\"target\"] = (data[\"score\"]-data[\"userscore\"])"
      ],
      "execution_count": 16,
      "outputs": []
    },
    {
      "cell_type": "code",
      "metadata": {
        "id": "VslCWeRkRjLc"
      },
      "source": [
        "data[\"binary_target\"] = data[\"target\"].apply(lambda x: 1 if x>=0 else 0)"
      ],
      "execution_count": 17,
      "outputs": []
    },
    {
      "cell_type": "code",
      "metadata": {
        "colab": {
          "base_uri": "https://localhost:8080/"
        },
        "id": "93v4Cj7gRjLc",
        "outputId": "30d9f16b-dd58-43d7-9344-61c54676dca9"
      },
      "source": [
        "data[\"target\"]"
      ],
      "execution_count": 18,
      "outputs": [
        {
          "output_type": "execute_result",
          "data": {
            "text/plain": [
              "0        24.0\n",
              "1        36.0\n",
              "2         9.0\n",
              "3        33.0\n",
              "4         4.0\n",
              "         ... \n",
              "16134     9.0\n",
              "16135    17.0\n",
              "16136   -10.0\n",
              "16137    -1.0\n",
              "16138   -45.0\n",
              "Name: target, Length: 12850, dtype: float64"
            ]
          },
          "metadata": {
            "tags": []
          },
          "execution_count": 18
        }
      ]
    },
    {
      "cell_type": "code",
      "metadata": {
        "colab": {
          "base_uri": "https://localhost:8080/",
          "height": 369
        },
        "id": "YV3gpKPORjLd",
        "outputId": "8863a0bb-dfe3-4b7a-d8b2-f4dbaf6e94fe"
      },
      "source": [
        "sns.displot(data[\"binary_target\"]);"
      ],
      "execution_count": 19,
      "outputs": [
        {
          "output_type": "display_data",
          "data": {
            "image/png": "[encoded data removed]",
            "text/plain": [
              "<Figure size 360x360 with 1 Axes>"
            ]
          },
          "metadata": {
            "tags": [],
            "needs_background": "light"
          }
        }
      ]
    },
    {
      "cell_type": "code",
      "metadata": {
        "scrolled": true,
        "colab": {
          "base_uri": "https://localhost:8080/",
          "height": 739
        },
        "id": "hsnCvmxbRjLd",
        "outputId": "484bf9af-a947-4819-f229-7db35e977c4b"
      },
      "source": [
        "n_critic_reviews = data[\"critic_reviews\"].apply(len)\n",
        "n_user_reviews =data[\"user_reviews\"].apply(len)\n",
        "sns.displot(n_critic_reviews)\n",
        "sns.displot(n_user_reviews)\n",
        "np.percentile(n_critic_reviews,80)"
      ],
      "execution_count": 20,
      "outputs": [
        {
          "output_type": "execute_result",
          "data": {
            "text/plain": [
              "39.0"
            ]
          },
          "metadata": {
            "tags": []
          },
          "execution_count": 20
        },
        {
          "output_type": "display_data",
          "data": {
            "image/png": "[encoded data removed]",
            "text/plain": [
              "<Figure size 360x360 with 1 Axes>"
            ]
          },
          "metadata": {
            "tags": [],
            "needs_background": "light"
          }
        },
        {
          "output_type": "display_data",
          "data": {
            "image/png": "[encoded data removed]",
            "text/plain": [
              "<Figure size 360x360 with 1 Axes>"
            ]
          },
          "metadata": {
            "tags": [],
            "needs_background": "light"
          }
        }
      ]
    },
    {
      "cell_type": "markdown",
      "metadata": {
        "id": "XtDdpQKERjLd"
      },
      "source": [
        "## Goals:\n",
        "\n",
        "Random sample 2-7 reviews from each row and concatenate into a single review. keep the score\n",
        "\n",
        "\n",
        "Vary these parameters: \n",
        "embedding\n",
        "training examples (how many reviews)\n",
        "architecture (CNN vs RNN vs LSTM vs GRU)\n",
        "\n"
      ]
    },
    {
      "cell_type": "markdown",
      "metadata": {
        "id": "romvScIbRjLe"
      },
      "source": [
        "# Shuffle and Split the Data"
      ]
    },
    {
      "cell_type": "code",
      "metadata": {
        "id": "lwmj6Ls3RjLe"
      },
      "source": [
        "def create_train_test(df,n_reviews,test_proportion):\n",
        "    copy = df.copy()\n",
        "    np.random.seed(0)\n",
        "    copy[\"critic_reviews\"] = copy[\"critic_reviews\"].apply(lambda x: np.random.choice(x,n_reviews,replace=False) if len(x)>= n_reviews else x)\n",
        "    copy[\"critic_reviews\"] = copy[\"critic_reviews\"].apply(lambda y: \" \".join(y))\n",
        "    copy[\"user_reviews\"] = (copy[\"user_reviews\"]\n",
        "                          .apply(lambda x: np.random.choice(x,n_reviews,replace=False) if len(x)>= n_reviews else x))\n",
        "    copy[\"user_reviews\"] = copy[\"user_reviews\"].apply(lambda y: \" \".join(y))\n",
        "    return train_test_split(copy.drop(columns=[\"binary_target\"]),copy.binary_target,test_size=test_proportion)\n",
        "    \n",
        "X_train,X_test,y_train,y_test = create_train_test(data,7,.3)"
      ],
      "execution_count": 21,
      "outputs": []
    },
    {
      "cell_type": "markdown",
      "metadata": {
        "id": "gkk2jSA9RjLg"
      },
      "source": [
        "# Tokenize and prep label"
      ]
    },
    {
      "cell_type": "code",
      "metadata": {
        "id": "-h39QDFoRjLg"
      },
      "source": [
        "baseline_tokenizer = nltk.RegexpTokenizer(r\"\\w+\")\n",
        "def prep_text(review_array,t):\n",
        "    joined = \" \".join(review_array)\n",
        "    tokens = t.tokenize(joined)\n",
        "    return tokens\n",
        "    "
      ],
      "execution_count": 22,
      "outputs": []
    },
    {
      "cell_type": "code",
      "metadata": {
        "scrolled": true,
        "id": "-NWYEIhvRjLh"
      },
      "source": [
        "vectorizer = TextVectorization(max_tokens=20000, output_sequence_length=100)\n",
        "text_ds = tf.data.Dataset.from_tensor_slices(X_train['critic_reviews']).batch(128)\n",
        "vectorizer.adapt(text_ds)"
      ],
      "execution_count": 23,
      "outputs": []
    },
    {
      "cell_type": "code",
      "metadata": {
        "id": "BMjq4hTnRjLh"
      },
      "source": [
        "vocab = vectorizer.get_vocabulary()"
      ],
      "execution_count": 24,
      "outputs": []
    },
    {
      "cell_type": "code",
      "metadata": {
        "colab": {
          "base_uri": "https://localhost:8080/"
        },
        "id": "Zth4WdVxRjLi",
        "outputId": "88db057d-0173-4fff-8378-8184e7f3ef4a"
      },
      "source": [
        "embed_dim=100\n",
        "embeddings_index = {}\n",
        "with open(glove_path,encoding=\"utf8\") as f:\n",
        "    for line in f:\n",
        "        word, coefs = line.split(maxsplit=1)\n",
        "        coefs = np.fromstring(coefs, \"f\", sep=\" \")\n",
        "        embeddings_index[word] = coefs\n",
        "\n",
        "print(\"Found %s word vectors.\" % len(embeddings_index))"
      ],
      "execution_count": 25,
      "outputs": [
        {
          "output_type": "stream",
          "text": [
            "Found 400000 word vectors.\n"
          ],
          "name": "stdout"
        }
      ]
    },
    {
      "cell_type": "markdown",
      "metadata": {
        "id": "73KiyIO4RjLi"
      },
      "source": [
        "### Tokenize"
      ]
    },
    {
      "cell_type": "code",
      "metadata": {
        "scrolled": true,
        "id": "U4g8-smGRjLj"
      },
      "source": [
        "X_train_critic = vectorizer(np.array([[s] for s in X_train[\"critic_reviews\"]]))\n",
        "X_train_user = vectorizer(np.array([[s] for s in X_train[\"user_reviews\"]]))\n",
        "\n",
        "\n",
        "X_test_critic = vectorizer(np.array([[s] for s in X_test[\"critic_reviews\"]]))\n",
        "X_test_user= vectorizer(np.array([[s] for s in X_test[\"user_reviews\"]]))"
      ],
      "execution_count": 26,
      "outputs": []
    },
    {
      "cell_type": "markdown",
      "metadata": {
        "id": "64rTNVe3RjLk"
      },
      "source": [
        "# Embedding Matrix\n"
      ]
    },
    {
      "cell_type": "code",
      "metadata": {
        "scrolled": true,
        "id": "q_vxCpTzRjLk"
      },
      "source": [
        "embeddings = np.zeros((len(vocab)+2,embed_dim))\n",
        "for index,word in enumerate(vocab):\n",
        "    word_embedding = embeddings_index.get(word)\n",
        "    embeddings[index] = word_embedding"
      ],
      "execution_count": 27,
      "outputs": []
    },
    {
      "cell_type": "code",
      "metadata": {
        "id": "W7TAcaPWRjLk"
      },
      "source": [
        "embed_matrix = np.nan_to_num(embeddings)"
      ],
      "execution_count": 28,
      "outputs": []
    },
    {
      "cell_type": "code",
      "metadata": {
        "colab": {
          "base_uri": "https://localhost:8080/"
        },
        "id": "2mL3fsChXnln",
        "outputId": "e2eee422-4d14-4615-e22e-16c7dfd6caf7"
      },
      "source": [
        "X_train_critic"
      ],
      "execution_count": 72,
      "outputs": [
        {
          "output_type": "execute_result",
          "data": {
            "text/plain": [
              "<tf.Tensor: shape=(8995, 100), dtype=int64, numpy=\n",
              "array([[    3,   462,  2162, ...,     9,    31,    72],\n",
              "       [    3,   643,     5, ...,    10,     8,    81],\n",
              "       [ 2100,  4322,     7, ...,  5621,   679,    19],\n",
              "       ...,\n",
              "       [    2,  1012,   296, ...,  1418, 13186,  4448],\n",
              "       [   17,     7,     3, ...,     2,   167,   433],\n",
              "       [    3,   260,   101, ...,    22,   135,     3]])>"
            ]
          },
          "metadata": {
            "tags": []
          },
          "execution_count": 72
        }
      ]
    },
    {
      "cell_type": "markdown",
      "metadata": {
        "id": "krxl9gIURjLl"
      },
      "source": [
        "# Baseline Model Creation"
      ]
    },
    {
      "cell_type": "code",
      "metadata": {
        "id": "M1dWiSxiRjLo"
      },
      "source": [
        "def create_lstm_baseline():\n",
        "  vocab_size = vocab\n",
        "  max_token_len = 100\n",
        "  kernel_size=3\n",
        "  dropout_rate = .2\n",
        "  embed_dim = 100\n",
        "  rnn_units= 100\n",
        "  critic_wordids = Input(shape=(max_token_len,),name=\"critic_wordids\")\n",
        "  critic_embeddings = Embedding(len(vocab)+2, embed_dim, embeddings_initializer = tf.keras.initializers.Constant(embed_matrix),trainable = False)(critic_wordids)\n",
        "\n",
        "  user_wordids = Input(shape=(max_token_len,),name=\"user_wordids\")\n",
        "  user_embeddings = Embedding(len(vocab)+2, embed_dim, embeddings_initializer = tf.keras.initializers.Constant(embed_matrix),trainable = False)(user_wordids)\n",
        "\n",
        "  critic_lstm_output=LSTM(rnn_units,name='Critic_LSTM')(critic_embeddings)\n",
        "  user_lstm_output =LSTM(rnn_units,name=\"User_LSTM\")(user_embeddings)\n",
        "\n",
        "  x = concatenate([critic_lstm_output,user_lstm_output])\n",
        "  x=Flatten()(x)\n",
        "  dense = Dense(256,activation=\"relu\",name=\"dense\")(x)\n",
        "  dense = Dense(256,activation=\"relu\",name=\"dense_3\")(dense)\n",
        "  output = Dense(1, activation='sigmoid',name='output_layer')(dense)\n",
        "  model = Model(inputs=[critic_wordids,user_wordids], outputs=output)\n",
        "  model.summary()\n",
        "  model.compile(optimizer=tf.keras.optimizers.Adam(1e-5),loss=tf.keras.losses.BinaryCrossentropy(),metrics=[tf.keras.metrics.BinaryAccuracy('accuracy')])\n",
        "  return model"
      ],
      "execution_count": 104,
      "outputs": []
    },
    {
      "cell_type": "code",
      "metadata": {
        "colab": {
          "base_uri": "https://localhost:8080/"
        },
        "id": "sCNpBjhURjLo",
        "outputId": "15760efc-50d8-47b2-9670-d87b5cc4d01d"
      },
      "source": [
        "lstm_model = create_lstm_baseline()\n",
        "history_2 = lstm_model.fit([X_train_critic,X_train_user],np.array(y_train),batch_size = 64,epochs = 5)"
      ],
      "execution_count": 112,
      "outputs": [
        {
          "output_type": "stream",
          "text": [
            "Model: \"model_9\"\n",
            "__________________________________________________________________________________________________\n",
            "Layer (type)                    Output Shape         Param #     Connected to                     \n",
            "==================================================================================================\n",
            "critic_wordids (InputLayer)     [(None, 100)]        0                                            \n",
            "__________________________________________________________________________________________________\n",
            "user_wordids (InputLayer)       [(None, 100)]        0                                            \n",
            "__________________________________________________________________________________________________\n",
            "embedding_39 (Embedding)        (None, 100, 100)     2000200     critic_wordids[0][0]             \n",
            "__________________________________________________________________________________________________\n",
            "embedding_40 (Embedding)        (None, 100, 100)     2000200     user_wordids[0][0]               \n",
            "__________________________________________________________________________________________________\n",
            "Critic_LSTM (LSTM)              (None, 100)          80400       embedding_39[0][0]               \n",
            "__________________________________________________________________________________________________\n",
            "User_LSTM (LSTM)                (None, 100)          80400       embedding_40[0][0]               \n",
            "__________________________________________________________________________________________________\n",
            "concatenate_9 (Concatenate)     (None, 200)          0           Critic_LSTM[0][0]                \n",
            "                                                                 User_LSTM[0][0]                  \n",
            "__________________________________________________________________________________________________\n",
            "flatten_3 (Flatten)             (None, 200)          0           concatenate_9[0][0]              \n",
            "__________________________________________________________________________________________________\n",
            "dense (Dense)                   (None, 256)          51456       flatten_3[0][0]                  \n",
            "__________________________________________________________________________________________________\n",
            "dense_3 (Dense)                 (None, 256)          65792       dense[0][0]                      \n",
            "__________________________________________________________________________________________________\n",
            "output_layer (Dense)            (None, 1)            257         dense_3[0][0]                    \n",
            "==================================================================================================\n",
            "Total params: 4,278,705\n",
            "Trainable params: 278,305\n",
            "Non-trainable params: 4,000,400\n",
            "__________________________________________________________________________________________________\n",
            "Epoch 1/5\n",
            "141/141 [==============================] - 32s 202ms/step - loss: 0.6862 - accuracy: 0.5613\n",
            "Epoch 2/5\n",
            "141/141 [==============================] - 29s 202ms/step - loss: 0.6835 - accuracy: 0.5652\n",
            "Epoch 3/5\n",
            "141/141 [==============================] - 28s 202ms/step - loss: 0.6829 - accuracy: 0.5641\n",
            "Epoch 4/5\n",
            "141/141 [==============================] - 29s 203ms/step - loss: 0.6810 - accuracy: 0.5693\n",
            "Epoch 5/5\n",
            "141/141 [==============================] - 29s 202ms/step - loss: 0.6807 - accuracy: 0.5652\n"
          ],
          "name": "stdout"
        }
      ]
    },
    {
      "cell_type": "code",
      "metadata": {
        "colab": {
          "base_uri": "https://localhost:8080/"
        },
        "id": "zLwACGO8KzCv",
        "outputId": "a6a0ed85-02bd-4aac-8790-d1f76f1d0f09"
      },
      "source": [
        "results = lstm_model.evaluate([X_test_critic,X_test_user], y_test)\n",
        "print(\"test loss, test acc:\", results)"
      ],
      "execution_count": 113,
      "outputs": [
        {
          "output_type": "stream",
          "text": [
            "121/121 [==============================] - 5s 39ms/step - loss: 0.6828 - accuracy: 0.5673\n",
            "test loss, test acc: [0.6827648282051086, 0.5673151612281799]\n"
          ],
          "name": "stdout"
        }
      ]
    },
    {
      "cell_type": "code",
      "metadata": {
        "colab": {
          "base_uri": "https://localhost:8080/",
          "height": 281
        },
        "id": "SmyeNoWoQH8W",
        "outputId": "2fc6cffa-4b21-4af1-8704-27da8ffedf8f"
      },
      "source": [
        "create_confusion_matrix(lstm_model,\"Baseline LSTM\")"
      ],
      "execution_count": 114,
      "outputs": [
        {
          "output_type": "display_data",
          "data": {
            "image/png": "[encoded data removed]",
            "text/plain": [
              "<Figure size 432x288 with 2 Axes>"
            ]
          },
          "metadata": {
            "tags": [],
            "needs_background": "light"
          }
        }
      ]
    },
    {
      "cell_type": "code",
      "metadata": {
        "id": "87bOhRHnRjLo"
      },
      "source": [
        "def create_confusion_matrix(model,title):\n",
        "  y_pred = np.array([np.round(p) for p in model.predict([X_test_critic,X_test_user])]).reshape(-1)\n",
        "  c = confusion_matrix(y_pred,y_test)\n",
        "  group_names = ['True Neg','False Pos','False Neg','True Pos']\n",
        "  group_counts = [\"{0:0.0f}\".format(value) for value in\n",
        "                  c.flatten()]\n",
        "  group_percentages = [\"{0:.2%}\".format(value) for value in\n",
        "                      c.flatten()/np.sum(c)]\n",
        "  labels = [f'{v1}\\n{v2}\\n{v3}' for v1, v2, v3 in\n",
        "            zip(group_names,group_counts,group_percentages)]\n",
        "  labels = np.asarray(labels).reshape(2,2)\n",
        "  sns.heatmap(c ,annot=labels,fmt='')\n",
        "  plt.title(title);\n",
        "  return plt.show()"
      ],
      "execution_count": 43,
      "outputs": []
    }
  ]
}